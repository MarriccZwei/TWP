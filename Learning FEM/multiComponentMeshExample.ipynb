{
 "cells": [
  {
   "cell_type": "markdown",
   "id": "7d2961b7",
   "metadata": {},
   "source": [
    "This notebook is devoted to developing a good algorithm for managing a complex mesh like ours. The main idea is to have a representation of a node that is a geometric object with its x y and z, as well as it's id in the global matrix"
   ]
  },
  {
   "cell_type": "code",
   "execution_count": 1,
   "id": "ff661b15",
   "metadata": {},
   "outputs": [],
   "source": [
    "import numpy as np\n",
    "from scipy.sparse.linalg import spsolve\n",
    "from scipy.sparse import coo_matrix\n",
    "from mpl_toolkits import mplot3d\n",
    "import matplotlib.pyplot as plt\n",
    "\n",
    "from pyfe3d.shellprop_utils import isotropic_plate\n",
    "from pyfe3d import Quad4, Quad4Data, Quad4Probe, INT, DOUBLE, DOF"
   ]
  },
  {
   "cell_type": "code",
   "execution_count": null,
   "id": "2be37c94",
   "metadata": {},
   "outputs": [],
   "source": [
    "class MeshInfo():\n",
    "    def __init__(self):\n",
    "        self._nodeCount = 0\n",
    "    \n",
    "    def new_id(self): \n",
    "        '''gets an ID starting at 1. \n",
    "        This ID has to be assigned when created. \n",
    "        Not using it causes an error!'''\n",
    "        self._nodeCount += 1\n",
    "        return self._nodeCount\n",
    "\n",
    "    @property\n",
    "    def nodeCount(self):\n",
    "        '''Use this to get the node count \n",
    "        without creating a new ID'''\n",
    "        return self._nodeCount\n",
    "\n",
    "\n",
    "class Node():\n",
    "    def __init__(self, x:float, y:float, z:float, meshinfo:MeshInfo):\n",
    "        self.id = meshinfo.new_id()\n",
    "        self.x, self.y, self.z = x, y, z"
   ]
  },
  {
   "cell_type": "markdown",
   "id": "551adb63",
   "metadata": {},
   "source": [
    "Now, we will create a shrinking sheet and same one sheet riveted along y=0 of the normal coordinate system. We will try to encapsulate it as a class. first of all: the root"
   ]
  },
  {
   "cell_type": "code",
   "execution_count": null,
   "id": "f467355b",
   "metadata": {},
   "outputs": [],
   "source": [
    "import typing as ty\n",
    "class Root():\n",
    "    def __init__(self, nodes:ty.List[ty.Tuple[float]], exports:ty.List[function]):\n",
    "        #nodes are the generated node locations, use gcl or something alike\n",
    "        #exports are check function as function of x, y, z numpy arrays, that give checks for groups of export points\n",
    "        self.meshinfo = MeshInfo() #one monkey said: new root, new mesh\n",
    "        self.nodes = np.array([Node(node[0], node[1], node[2], self.meshinfo) for node in nodes])\n",
    "        x = np.array([node.x for node in self.nodes])\n",
    "        y = np.array([node.y for node in self.nodes])\n",
    "        z = np.array([node.z for node in self.nodes])\n",
    "\n",
    "        #creating export nodes\n",
    "        self.exports = list()\n",
    "        for fun in exports:\n",
    "            check = fun(x,y,z)\n",
    "            self.exports.append(self.nodes[check])\n",
    "        "
   ]
  }
 ],
 "metadata": {
  "kernelspec": {
   "display_name": "Python 3",
   "language": "python",
   "name": "python3"
  },
  "language_info": {
   "codemirror_mode": {
    "name": "ipython",
    "version": 3
   },
   "file_extension": ".py",
   "mimetype": "text/x-python",
   "name": "python",
   "nbconvert_exporter": "python",
   "pygments_lexer": "ipython3",
   "version": "3.12.2"
  }
 },
 "nbformat": 4,
 "nbformat_minor": 5
}
