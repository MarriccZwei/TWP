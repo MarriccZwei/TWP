{
 "cells": [
  {
   "cell_type": "markdown",
   "id": "f45edd3c",
   "metadata": {},
   "source": [
    "# Testing how terrible chat is at saving us from outr time constraint"
   ]
  },
  {
   "cell_type": "markdown",
   "id": "f07108a6",
   "metadata": {},
   "source": [
    "## Plane creation"
   ]
  },
  {
   "cell_type": "code",
   "execution_count": 1,
   "id": "10e5145d",
   "metadata": {},
   "outputs": [
    {
     "data": {
      "application/vnd.jupyter.widget-view+json": {
       "model_id": "48fc29ffa3fc4df1a855982ab81f8394",
       "version_major": 2,
       "version_minor": 0
      },
      "text/plain": [
       "Widget(value='<iframe src=\"http://localhost:63406/index.html?ui=P_0x1935a462cf0_0&reconnect=auto\" class=\"pyvis…"
      ]
     },
     "metadata": {},
     "output_type": "display_data"
    },
    {
     "data": {
      "text/html": [
       "\n",
       "<table style='width: 100%;'>\n",
       "<tr><th>PolyData</th><th>Information</th></tr>\n",
       "<tr><td>N Cells</td><td>290</td></tr>\n",
       "<tr><td>N Points</td><td>292</td></tr>\n",
       "<tr><td>N Strips</td><td>0</td></tr>\n",
       "<tr><td>X Bounds</td><td>-3.856e-04, 5.000e+00</td></tr>\n",
       "<tr><td>Y Bounds</td><td>-2.100e+01, 2.100e+01</td></tr>\n",
       "<tr><td>Z Bounds</td><td>-2.115e-01, 3.955e-01</td></tr>\n",
       "<tr><td>N Arrays</td><td>0</td></tr>\n",
       "</table>\n",
       "\n"
      ],
      "text/plain": [
       "PolyData (0x19359a27940)\n",
       "  N Cells:    290\n",
       "  N Points:   292\n",
       "  N Strips:   0\n",
       "  X Bounds:   -3.856e-04, 5.000e+00\n",
       "  Y Bounds:   -2.100e+01, 2.100e+01\n",
       "  Z Bounds:   -2.115e-01, 3.955e-01\n",
       "  N Arrays:   0"
      ]
     },
     "execution_count": 1,
     "metadata": {},
     "output_type": "execute_result"
    }
   ],
   "source": [
    "import aerosandbox as asb\n",
    "import aerosandbox.numpy as np\n",
    "\n",
    "# Basic geometry parameters\n",
    "span = 42  # Total span\n",
    "root_chord = 5\n",
    "taper_ratio = 0.4\n",
    "tip_chord = root_chord * taper_ratio\n",
    "half_span = span / 2\n",
    "n_propulsors_per_wing = 4\n",
    "\n",
    "# Define the wing\n",
    "wing = asb.Wing(\n",
    "    name=\"Main Wing\",\n",
    "    symmetric=True,\n",
    "    xsecs=[\n",
    "        asb.WingXSec(\n",
    "            xyz_le=[0,0,0],\n",
    "            chord=root_chord,\n",
    "            airfoil=asb.Airfoil(\"naca2412\")\n",
    "        ),\n",
    "        asb.WingXSec(\n",
    "            xyz_le=[0,half_span,0],\n",
    "            chord=tip_chord,\n",
    "            airfoil=asb.Airfoil(\"naca2412\")\n",
    "        )\n",
    "    ]\n",
    ")\n",
    "\n",
    "# Define propulsor positions along the wing span\n",
    "# Choose evenly spaced positions on each side, avoiding root/tip\n",
    "y_positions_right = np.linspace(half_span * 0.15, half_span * 0.85, n_propulsors_per_wing)\n",
    "y_positions = np.concatenate([-y_positions_right[::-1], y_positions_right])  # Left and right\n",
    "\n",
    "# Define the thrust magnitude for each propulsor\n",
    "def constant_thrust(thrust_value):\n",
    "    return lambda op_point: np.array([thrust_value, 0, 0])  # Thrust in +X (forward)\n",
    "\n",
    "# Create propulsors\n",
    "thrust_per_engine = 5000  # N (arbitrary example value)\n",
    "propulsors = []\n",
    "\n",
    "for i, y in enumerate(y_positions):\n",
    "    propulsors.append(\n",
    "        asb.Propulsor(\n",
    "            name=f\"Engine_{i+1}\",\n",
    "            xyz_c=np.array([-2, y, 0]),  # 2 m ahead of wing LE, spanwise y, z = 0\n",
    "            xyz_normal=[-1,0,0]\n",
    "        )\n",
    "    )\n",
    "\n",
    "# Define the airplane with wing and propulsors\n",
    "airplane = asb.Airplane(\n",
    "    name=\"Custom 8-Engine Aircraft\",\n",
    "    wings=[wing],\n",
    "    propulsors=propulsors\n",
    ")\n",
    "\n",
    "airplane.draw()"
   ]
  },
  {
   "cell_type": "code",
   "execution_count": 2,
   "id": "49fda1ab",
   "metadata": {},
   "outputs": [
    {
     "name": "stdout",
     "output_type": "stream",
     "text": [
      "Forces total:\n",
      "[-1.03803109e+04 -6.30051566e-14  1.45295931e+05]\n"
     ]
    }
   ],
   "source": [
    "#basic vlm\n",
    "def run_vlm_force_analysis(\n",
    "    airplane: asb.Airplane,\n",
    "    op_point: asb.OperatingPoint\n",
    ") -> np.ndarray:\n",
    "    \"\"\"\n",
    "    Runs a VLM analysis and returns aerodynamic forces at each node of the wing mesh.\n",
    "\n",
    "    Args:\n",
    "        airplane (asb.Airplane): The airplane object.\n",
    "        op_point (asb.OperatingPoint): Operating conditions.\n",
    "\n",
    "    Returns:\n",
    "        np.ndarray: An (n_panels, 3) array of aerodynamic force vectors [Fx, Fy, Fz] at each panel control point.\n",
    "    \"\"\"\n",
    "    # Set up the VLM analysis\n",
    "    vlm = asb.VortexLatticeMethod(\n",
    "        airplane=airplane,\n",
    "        op_point=op_point,\n",
    "        spanwise_resolution=20,\n",
    "        chordwise_resolution=5\n",
    "    )\n",
    "\n",
    "    # Run the VLM analysis\n",
    "    sol = vlm.run()\n",
    "\n",
    "    # Get forces at each panel\n",
    "    forces = sol[\"F_g\"]  # Shape: (n_spanwise, n_chordwise, 3)\n",
    "    moments = sol[\"M_g\"] \n",
    "\n",
    "    return forces, moments, vlm\n",
    "\n",
    "# Define freestream conditions\n",
    "op_point = asb.OperatingPoint(\n",
    "    velocity=70,      # m/s\n",
    "    alpha=5,          # degrees\n",
    "    beta=0,           # degrees\n",
    "    atmosphere=asb.Atmosphere(6000)\n",
    ")\n",
    "\n",
    "# Run VLM force analysis\n",
    "forces, moments, vlm = run_vlm_force_analysis(airplane, op_point)\n",
    "\n",
    "# Inspect result\n",
    "print(\"Forces total:\")\n",
    "print(forces)"
   ]
  },
  {
   "cell_type": "markdown",
   "id": "e069b903",
   "metadata": {},
   "source": [
    "## Now, the forces have to be interpolated"
   ]
  },
  {
   "cell_type": "markdown",
   "id": "93e29fc5",
   "metadata": {},
   "source": [
    "### An oversimplified wing geometry"
   ]
  },
  {
   "cell_type": "code",
   "execution_count": 3,
   "id": "76ab9ba6",
   "metadata": {},
   "outputs": [],
   "source": [
    "import aerosandbox.numpy as np\n",
    "\n",
    "def generate_spanwise_line_at_chord_fraction(wing: asb.Wing, chord_fraction: float, spacing: float) -> np.ndarray:\n",
    "    \"\"\"\n",
    "    Generates a spanwise line of points following a constant chordwise fraction across the wing.\n",
    "\n",
    "    Args:\n",
    "        wing (asb.Wing): The wing geometry (assumed symmetric).\n",
    "        chord_fraction (float): Fraction of chord from LE (0 = LE, 1 = TE).\n",
    "        spacing (float): Desired spacing in meters between points along the span.\n",
    "\n",
    "    Returns:\n",
    "        np.ndarray: Array of shape (N, 3) with [x, y, z] points.\n",
    "    \"\"\"\n",
    "    root_xsec = wing.xsecs[0]\n",
    "    tip_xsec = wing.xsecs[1]\n",
    "\n",
    "    half_span = abs(tip_xsec.xyz_le[1] - root_xsec.xyz_le[1])\n",
    "    n_points = max(2, int(np.ceil(half_span / spacing)) + 1)\n",
    "    y_vals = np.linspace(0, half_span, n_points)\n",
    "\n",
    "    points = []\n",
    "    for y in y_vals:\n",
    "        # Interpolate leading edge and chord along span\n",
    "        x_le = np.interp(y, [0, half_span], [root_xsec.xyz_le[0], tip_xsec.xyz_le[0]])\n",
    "        y_le = np.interp(y, [0, half_span], [root_xsec.xyz_le[1], tip_xsec.xyz_le[1]])\n",
    "        z_le = np.interp(y, [0, half_span], [root_xsec.xyz_le[2], tip_xsec.xyz_le[2]])\n",
    "        chord = np.interp(y, [0, half_span], [root_xsec.chord, tip_xsec.chord])\n",
    "\n",
    "        x = x_le + chord_fraction * chord\n",
    "        y = y_le\n",
    "        z = z_le  # Assuming flat (zero twist/camber)\n",
    "\n",
    "        points.append([x, y, z])\n",
    "\n",
    "        if y != 0:  # Symmetric side\n",
    "            points.append([x, -y, z])\n",
    "\n",
    "    return np.array(points)\n"
   ]
  },
  {
   "cell_type": "code",
   "execution_count": 4,
   "id": "688f81e9",
   "metadata": {},
   "outputs": [
    {
     "data": {
      "image/png": "[encoded data removed]",
      "text/plain": [
       "<Figure size 1000x500 with 1 Axes>"
      ]
     },
     "metadata": {},
     "output_type": "display_data"
    }
   ],
   "source": [
    "import matplotlib.pyplot as plt\n",
    "import numpy as onp  # For compatibility with matplotlib\n",
    "\n",
    "# Chord fractions to evaluate\n",
    "chord_fractions = [0.2, 0.25, 0.3, 0.34, 0.4, 0.47, 0.55, 0.6]\n",
    "\n",
    "# Spacing along span (m)\n",
    "spacing = 1.0\n",
    "\n",
    "# Container for all points\n",
    "all_points = []\n",
    "\n",
    "for frac in chord_fractions:\n",
    "    points = generate_spanwise_line_at_chord_fraction(wing=wing, chord_fraction=frac, spacing=spacing)\n",
    "    all_points.append(points)\n",
    "\n",
    "# Combine into one (N, 3) array\n",
    "combined_points = onp.vstack(all_points)\n",
    "\n",
    "# Plot x vs y\n",
    "plt.figure(figsize=(10, 5))\n",
    "plt.scatter(combined_points[:5, 0], combined_points[:5, 1], s=10, c='blue')\n",
    "plt.xlabel(\"x (Chordwise Position) [m]\")\n",
    "plt.ylabel(\"y (Spanwise Position) [m]\")\n",
    "plt.title(\"Lines Along Constant Chord Fractions of Wing\")\n",
    "plt.grid(True)\n",
    "plt.axis('equal')\n",
    "plt.show()\n"
   ]
  },
  {
   "cell_type": "code",
   "execution_count": 5,
   "id": "74bd67fc",
   "metadata": {},
   "outputs": [
    {
     "data": {
      "text/plain": [
       "[<matplotlib.lines.Line2D at 0x1936b121280>]"
      ]
     },
     "execution_count": 5,
     "metadata": {},
     "output_type": "execute_result"
    },
    {
     "data": {
      "image/png": "[encoded data removed]",
      "text/plain": [
       "<Figure size 640x480 with 1 Axes>"
      ]
     },
     "metadata": {},
     "output_type": "display_data"
    }
   ],
   "source": [
    "\"restricting the size of the structural mesh\"\n",
    "y_all = combined_points[:, 1]\n",
    "include = (y_all <= 18) & (y_all >= 1.2) \n",
    "ncoords = combined_points[include]\n",
    "plt.plot(ncoords.T[0], ncoords.T[1]) #shape 0 along the c, shape 12 along b"
   ]
  },
  {
   "cell_type": "code",
   "execution_count": 6,
   "id": "e89ea799",
   "metadata": {},
   "outputs": [
    {
     "name": "stdout",
     "output_type": "stream",
     "text": [
      "elements created\n"
     ]
    },
    {
     "data": {
      "image/png": "[encoded data removed]",
      "text/plain": [
       "<Figure size 640x480 with 1 Axes>"
      ]
     },
     "metadata": {},
     "output_type": "display_data"
    }
   ],
   "source": [
    "import numpy as np\n",
    "from scipy.sparse.linalg import cg\n",
    "from scipy.sparse import coo_matrix\n",
    "\n",
    "from pyfe3d.shellprop_utils import isotropic_plate\n",
    "from pyfe3d import Quad4, Quad4Data, Quad4Probe, INT, DOUBLE, DOF\n",
    "\"quad generation copypasta\"\n",
    "\n",
    "'''before ncoords definition'''\n",
    "data = Quad4Data()\n",
    "probe = Quad4Probe()\n",
    "\n",
    "a = 3\n",
    "b = 7\n",
    "h = 1 # m\n",
    "\n",
    "#to keep consistency with the generated points\n",
    "nx=8\n",
    "ny=int(ncoords.shape[0]/nx)\n",
    "\n",
    "E = 200e9\n",
    "nu = 0.3\n",
    "\n",
    "'''after ncoords definition'''\n",
    "x = ncoords[:, 0]\n",
    "y = ncoords[:, 1]\n",
    "z = ncoords[:, 2]\n",
    "ncoords_flatten = ncoords.flatten()\n",
    "\n",
    "nids = 1 + np.arange(ncoords.shape[0])\n",
    "nid_pos = dict(zip(nids, np.arange(len(nids))))\n",
    "nids_mesh = nids.reshape(8, ny)\n",
    "n1s = nids_mesh[:-1, :-1].flatten()\n",
    "n2s = nids_mesh[1:, :-1].flatten()\n",
    "n3s = nids_mesh[1:, 1:].flatten()\n",
    "n4s = nids_mesh[:-1, 1:].flatten()\n",
    "\n",
    "num_elements = len(n1s)\n",
    "\n",
    "KC0r = np.zeros(data.KC0_SPARSE_SIZE*num_elements, dtype=INT)\n",
    "KC0c = np.zeros(data.KC0_SPARSE_SIZE*num_elements, dtype=INT)\n",
    "KC0v = np.zeros(data.KC0_SPARSE_SIZE*num_elements, dtype=DOUBLE)\n",
    "Mr = np.zeros(data.M_SPARSE_SIZE*num_elements, dtype=INT)\n",
    "Mc = np.zeros(data.M_SPARSE_SIZE*num_elements, dtype=INT)\n",
    "Mv = np.zeros(data.M_SPARSE_SIZE*num_elements, dtype=DOUBLE)\n",
    "N = DOF*nx*ny\n",
    "\n",
    "prop = isotropic_plate(thickness=h, E=E, nu=nu, calc_scf=True, rho=100) #not needed for smeard\n",
    "\n",
    "quads = []\n",
    "init_k_KC0 = 0\n",
    "init_k_M = 0\n",
    "for n1, n2, n3, n4 in zip(n1s, n2s, n3s, n4s):\n",
    "    pos1 = nid_pos[n1]\n",
    "    pos2 = nid_pos[n2]\n",
    "    pos3 = nid_pos[n3]\n",
    "    pos4 = nid_pos[n4]\n",
    "    r1 = ncoords[pos1]\n",
    "    r2 = ncoords[pos2]\n",
    "    r3 = ncoords[pos3]\n",
    "    normal = np.cross(r2 - r1, r3 - r2)[2]\n",
    "    assert normal > 0\n",
    "    quad = Quad4(probe)\n",
    "    quad.n1 = n1 #@# connectring it to the global stiffness matrix\n",
    "    quad.n2 = n2\n",
    "    quad.n3 = n3\n",
    "    quad.n4 = n4\n",
    "    quad.c1 = DOF*nid_pos[n1]\n",
    "    quad.c2 = DOF*nid_pos[n2]\n",
    "    quad.c3 = DOF*nid_pos[n3]\n",
    "    quad.c4 = DOF*nid_pos[n4]\n",
    "    quad.init_k_KC0 = init_k_KC0\n",
    "    quad.update_rotation_matrix(ncoords_flatten)\n",
    "    quad.update_probe_xe(ncoords_flatten)\n",
    "    quad.update_KC0(KC0r, KC0c, KC0v, prop) #matrix contribution, changing the matrices sent\n",
    "    quad.update_M(Mr, Mc, Mv, prop)\n",
    "    quads.append(quad)\n",
    "    init_k_KC0 += data.KC0_SPARSE_SIZE\n",
    "    init_k_M += data.M_SPARSE_SIZE\n",
    "\n",
    "KC0 = coo_matrix((KC0v, (KC0r, KC0c)), shape=(N, N)).tocsc() #@# stiffness matrix in sparse format\n",
    "M = coo_matrix((Mv, (Mr, Mc)), shape=(N,N)).tocsc()\n",
    "\n",
    "print('elements created')\n",
    "for quad in quads:\n",
    "    poses = [nid_pos[nid] for nid in [quad.n1, quad.n2, quad.n3, quad.n4, quad.n1]]\n",
    "    plt.plot(ncoords.T[0][poses], ncoords.T[1][poses])"
   ]
  },
  {
   "cell_type": "markdown",
   "id": "0ca8d794",
   "metadata": {},
   "source": [
    "Interior and boundary regions"
   ]
  },
  {
   "cell_type": "code",
   "execution_count": 7,
   "id": "d39d48a8",
   "metadata": {},
   "outputs": [
    {
     "data": {
      "text/plain": [
       "(array([False, False, False, False, False, False,  True,  True,  True,\n",
       "         True,  True,  True,  True,  True,  True,  True,  True,  True,\n",
       "         True,  True,  True,  True,  True,  True,  True,  True,  True,\n",
       "         True,  True,  True,  True,  True,  True,  True,  True,  True,\n",
       "         True,  True,  True,  True,  True,  True,  True,  True,  True,\n",
       "         True,  True,  True,  True,  True,  True,  True,  True,  True,\n",
       "         True,  True,  True,  True,  True,  True,  True,  True,  True,\n",
       "         True,  True,  True,  True,  True,  True,  True,  True,  True,\n",
       "         True,  True,  True,  True,  True,  True,  True,  True,  True,\n",
       "         True,  True,  True,  True,  True,  True,  True,  True,  True,\n",
       "         True,  True,  True,  True,  True,  True,  True,  True,  True,\n",
       "         True,  True,  True, False, False, False, False, False, False,\n",
       "         True,  True,  True,  True,  True,  True,  True,  True,  True,\n",
       "         True,  True,  True,  True,  True,  True,  True,  True,  True,\n",
       "         True,  True,  True,  True,  True,  True,  True,  True,  True,\n",
       "         True,  True,  True,  True,  True,  True,  True,  True,  True,\n",
       "         True,  True,  True,  True,  True,  True,  True,  True,  True,\n",
       "         True,  True,  True,  True,  True,  True,  True,  True,  True,\n",
       "         True,  True,  True,  True,  True,  True,  True,  True,  True,\n",
       "         True,  True,  True,  True,  True,  True,  True,  True,  True,\n",
       "         True,  True,  True,  True,  True,  True,  True,  True,  True,\n",
       "         True,  True,  True,  True,  True,  True,  True,  True,  True,\n",
       "         True,  True,  True,  True,  True,  True, False, False, False,\n",
       "        False, False, False,  True,  True,  True,  True,  True,  True,\n",
       "         True,  True,  True,  True,  True,  True,  True,  True,  True,\n",
       "         True,  True,  True,  True,  True,  True,  True,  True,  True,\n",
       "         True,  True,  True,  True,  True,  True,  True,  True,  True,\n",
       "         True,  True,  True,  True,  True,  True,  True,  True,  True,\n",
       "         True,  True,  True,  True,  True,  True,  True,  True,  True,\n",
       "         True,  True,  True,  True,  True,  True,  True,  True,  True,\n",
       "         True,  True,  True,  True,  True,  True,  True,  True,  True,\n",
       "         True,  True,  True,  True,  True,  True,  True,  True,  True,\n",
       "         True,  True,  True,  True,  True,  True,  True,  True,  True,\n",
       "         True,  True,  True,  True,  True,  True,  True,  True,  True,\n",
       "        False, False, False, False, False, False,  True,  True,  True,\n",
       "         True,  True,  True,  True,  True,  True,  True,  True,  True,\n",
       "         True,  True,  True,  True,  True,  True,  True,  True,  True,\n",
       "         True,  True,  True,  True,  True,  True,  True,  True,  True,\n",
       "         True,  True,  True,  True,  True,  True,  True,  True,  True,\n",
       "         True,  True,  True,  True,  True,  True,  True,  True,  True,\n",
       "         True,  True,  True,  True,  True,  True,  True,  True,  True,\n",
       "         True,  True,  True,  True,  True,  True,  True,  True,  True,\n",
       "         True,  True,  True,  True,  True,  True,  True,  True,  True,\n",
       "         True,  True,  True,  True,  True,  True,  True,  True,  True,\n",
       "         True,  True,  True,  True,  True,  True,  True,  True,  True,\n",
       "         True,  True,  True, False, False, False, False, False, False,\n",
       "         True,  True,  True,  True,  True,  True,  True,  True,  True,\n",
       "         True,  True,  True,  True,  True,  True,  True,  True,  True,\n",
       "         True,  True,  True,  True,  True,  True,  True,  True,  True,\n",
       "         True,  True,  True,  True,  True,  True,  True,  True,  True,\n",
       "         True,  True,  True,  True,  True,  True,  True,  True,  True,\n",
       "         True,  True,  True,  True,  True,  True,  True,  True,  True,\n",
       "         True,  True,  True,  True,  True,  True,  True,  True,  True,\n",
       "         True,  True,  True,  True,  True,  True,  True,  True,  True,\n",
       "         True,  True,  True,  True,  True,  True,  True,  True,  True,\n",
       "         True,  True,  True,  True,  True,  True,  True,  True,  True,\n",
       "         True,  True,  True,  True,  True,  True, False, False, False,\n",
       "        False, False, False,  True,  True,  True,  True,  True,  True,\n",
       "         True,  True,  True,  True,  True,  True,  True,  True,  True,\n",
       "         True,  True,  True,  True,  True,  True,  True,  True,  True,\n",
       "         True,  True,  True,  True,  True,  True,  True,  True,  True,\n",
       "         True,  True,  True,  True,  True,  True,  True,  True,  True,\n",
       "         True,  True,  True,  True,  True,  True,  True,  True,  True,\n",
       "         True,  True,  True,  True,  True,  True,  True,  True,  True,\n",
       "         True,  True,  True,  True,  True,  True,  True,  True,  True,\n",
       "         True,  True,  True,  True,  True,  True,  True,  True,  True,\n",
       "         True,  True,  True,  True,  True,  True,  True,  True,  True,\n",
       "         True,  True,  True,  True,  True,  True,  True,  True,  True,\n",
       "        False, False, False, False, False, False,  True,  True,  True,\n",
       "         True,  True,  True,  True,  True,  True,  True,  True,  True,\n",
       "         True,  True,  True,  True,  True,  True,  True,  True,  True,\n",
       "         True,  True,  True,  True,  True,  True,  True,  True,  True,\n",
       "         True,  True,  True,  True,  True,  True,  True,  True,  True,\n",
       "         True,  True,  True,  True,  True,  True,  True,  True,  True,\n",
       "         True,  True,  True,  True,  True,  True,  True,  True,  True,\n",
       "         True,  True,  True,  True,  True,  True,  True,  True,  True,\n",
       "         True,  True,  True,  True,  True,  True,  True,  True,  True,\n",
       "         True,  True,  True,  True,  True,  True,  True,  True,  True,\n",
       "         True,  True,  True,  True,  True,  True,  True,  True,  True,\n",
       "         True,  True,  True, False, False, False, False, False, False,\n",
       "         True,  True,  True,  True,  True,  True,  True,  True,  True,\n",
       "         True,  True,  True,  True,  True,  True,  True,  True,  True,\n",
       "         True,  True,  True,  True,  True,  True,  True,  True,  True,\n",
       "         True,  True,  True,  True,  True,  True,  True,  True,  True,\n",
       "         True,  True,  True,  True,  True,  True,  True,  True,  True,\n",
       "         True,  True,  True,  True,  True,  True,  True,  True,  True,\n",
       "         True,  True,  True,  True,  True,  True,  True,  True,  True,\n",
       "         True,  True,  True,  True,  True,  True,  True,  True,  True,\n",
       "         True,  True,  True,  True,  True,  True,  True,  True,  True,\n",
       "         True,  True,  True,  True,  True,  True,  True,  True,  True,\n",
       "         True,  True,  True,  True,  True,  True]),\n",
       " array([ True,  True,  True,  True,  True,  True, False, False, False,\n",
       "        False, False, False, False, False, False, False, False, False,\n",
       "        False, False, False, False, False, False, False, False, False,\n",
       "        False, False, False, False, False, False, False, False, False,\n",
       "        False, False, False, False, False, False, False, False, False,\n",
       "        False, False, False, False, False, False, False, False, False,\n",
       "        False, False, False, False, False, False, False, False, False,\n",
       "        False, False, False, False, False, False, False, False, False,\n",
       "        False, False, False, False, False, False, False, False, False,\n",
       "        False, False, False, False, False, False, False, False, False,\n",
       "        False, False, False, False, False, False, False, False, False,\n",
       "        False, False, False,  True,  True,  True,  True,  True,  True,\n",
       "        False, False, False, False, False, False, False, False, False,\n",
       "        False, False, False, False, False, False, False, False, False,\n",
       "        False, False, False, False, False, False, False, False, False,\n",
       "        False, False, False, False, False, False, False, False, False,\n",
       "        False, False, False, False, False, False, False, False, False,\n",
       "        False, False, False, False, False, False, False, False, False,\n",
       "        False, False, False, False, False, False, False, False, False,\n",
       "        False, False, False, False, False, False, False, False, False,\n",
       "        False, False, False, False, False, False, False, False, False,\n",
       "        False, False, False, False, False, False, False, False, False,\n",
       "        False, False, False, False, False, False,  True,  True,  True,\n",
       "         True,  True,  True, False, False, False, False, False, False,\n",
       "        False, False, False, False, False, False, False, False, False,\n",
       "        False, False, False, False, False, False, False, False, False,\n",
       "        False, False, False, False, False, False, False, False, False,\n",
       "        False, False, False, False, False, False, False, False, False,\n",
       "        False, False, False, False, False, False, False, False, False,\n",
       "        False, False, False, False, False, False, False, False, False,\n",
       "        False, False, False, False, False, False, False, False, False,\n",
       "        False, False, False, False, False, False, False, False, False,\n",
       "        False, False, False, False, False, False, False, False, False,\n",
       "        False, False, False, False, False, False, False, False, False,\n",
       "         True,  True,  True,  True,  True,  True, False, False, False,\n",
       "        False, False, False, False, False, False, False, False, False,\n",
       "        False, False, False, False, False, False, False, False, False,\n",
       "        False, False, False, False, False, False, False, False, False,\n",
       "        False, False, False, False, False, False, False, False, False,\n",
       "        False, False, False, False, False, False, False, False, False,\n",
       "        False, False, False, False, False, False, False, False, False,\n",
       "        False, False, False, False, False, False, False, False, False,\n",
       "        False, False, False, False, False, False, False, False, False,\n",
       "        False, False, False, False, False, False, False, False, False,\n",
       "        False, False, False, False, False, False, False, False, False,\n",
       "        False, False, False,  True,  True,  True,  True,  True,  True,\n",
       "        False, False, False, False, False, False, False, False, False,\n",
       "        False, False, False, False, False, False, False, False, False,\n",
       "        False, False, False, False, False, False, False, False, False,\n",
       "        False, False, False, False, False, False, False, False, False,\n",
       "        False, False, False, False, False, False, False, False, False,\n",
       "        False, False, False, False, False, False, False, False, False,\n",
       "        False, False, False, False, False, False, False, False, False,\n",
       "        False, False, False, False, False, False, False, False, False,\n",
       "        False, False, False, False, False, False, False, False, False,\n",
       "        False, False, False, False, False, False, False, False, False,\n",
       "        False, False, False, False, False, False,  True,  True,  True,\n",
       "         True,  True,  True, False, False, False, False, False, False,\n",
       "        False, False, False, False, False, False, False, False, False,\n",
       "        False, False, False, False, False, False, False, False, False,\n",
       "        False, False, False, False, False, False, False, False, False,\n",
       "        False, False, False, False, False, False, False, False, False,\n",
       "        False, False, False, False, False, False, False, False, False,\n",
       "        False, False, False, False, False, False, False, False, False,\n",
       "        False, False, False, False, False, False, False, False, False,\n",
       "        False, False, False, False, False, False, False, False, False,\n",
       "        False, False, False, False, False, False, False, False, False,\n",
       "        False, False, False, False, False, False, False, False, False,\n",
       "         True,  True,  True,  True,  True,  True, False, False, False,\n",
       "        False, False, False, False, False, False, False, False, False,\n",
       "        False, False, False, False, False, False, False, False, False,\n",
       "        False, False, False, False, False, False, False, False, False,\n",
       "        False, False, False, False, False, False, False, False, False,\n",
       "        False, False, False, False, False, False, False, False, False,\n",
       "        False, False, False, False, False, False, False, False, False,\n",
       "        False, False, False, False, False, False, False, False, False,\n",
       "        False, False, False, False, False, False, False, False, False,\n",
       "        False, False, False, False, False, False, False, False, False,\n",
       "        False, False, False, False, False, False, False, False, False,\n",
       "        False, False, False,  True,  True,  True,  True,  True,  True,\n",
       "        False, False, False, False, False, False, False, False, False,\n",
       "        False, False, False, False, False, False, False, False, False,\n",
       "        False, False, False, False, False, False, False, False, False,\n",
       "        False, False, False, False, False, False, False, False, False,\n",
       "        False, False, False, False, False, False, False, False, False,\n",
       "        False, False, False, False, False, False, False, False, False,\n",
       "        False, False, False, False, False, False, False, False, False,\n",
       "        False, False, False, False, False, False, False, False, False,\n",
       "        False, False, False, False, False, False, False, False, False,\n",
       "        False, False, False, False, False, False, False, False, False,\n",
       "        False, False, False, False, False, False]))"
      ]
     },
     "execution_count": 7,
     "metadata": {},
     "output_type": "execute_result"
    }
   ],
   "source": [
    "check = np.isclose(y, min(y))\n",
    "bk = np.zeros(N, dtype=bool)\n",
    "for i in range(6):\n",
    "    bk[i::DOF] = check\n",
    "bu = ~bk\n",
    "bu, bk"
   ]
  },
  {
   "cell_type": "markdown",
   "id": "645bd64a",
   "metadata": {},
   "source": [
    "### Interpolation of the aerodynamic loads"
   ]
  },
  {
   "cell_type": "code",
   "execution_count": 8,
   "id": "99e50217",
   "metadata": {},
   "outputs": [
    {
     "name": "stdout",
     "output_type": "stream",
     "text": [
      "distances [[0.9258912  0.99232572 1.12998785 1.19690178 1.34199865 1.41122636\n",
      "  1.51507864 1.58705916 1.65271635 1.76740551]\n",
      " [0.49720138 0.5823287  0.61846642 0.7026942  0.78884853 0.87153543\n",
      "  0.94304809 1.02577682 1.1896697  1.27457095]\n",
      " [0.48606774 0.50432959 0.55242332 0.6040178  0.61948626 0.65374328\n",
      "  0.72511662 0.75212321 0.77314342 0.83649331]\n",
      " [0.73647239 0.74438694 0.9120886  0.9340256  1.23542008 1.26451953\n",
      "  1.53856505 1.56659449 1.60640161 1.71033592]\n",
      " [1.57232998 1.62848659 1.79549686 1.84887307 2.15812037 2.20145621\n",
      "  2.20496061 2.37175067 2.47897275 2.51880122]\n",
      " [0.83423318 1.04400675 1.07000365 1.25152572 1.25778233 1.43048018\n",
      "  1.44644918 1.49953821 1.60877803 1.61744693]\n",
      " [0.35183492 0.50222113 0.69189995 0.73381464 0.82810581 0.85471001\n",
      "  0.9682584  1.10189339 1.10720737 1.30794661]\n",
      " [0.33182003 0.36412397 0.49377118 0.6273967  0.64140153 0.70953034\n",
      "  0.75260327 0.78259562 0.82719794 0.84210063]\n",
      " [0.62757915 0.82818612 0.84307136 0.98725655 1.16495418 1.27053695\n",
      "  1.44624885 1.46641385 1.54704001 1.55224223]\n",
      " [1.5234082  1.5734268  1.7410762  1.78090326 2.04464351 2.09098822\n",
      "  2.1219016  2.15528772 2.21436745 2.30743005]\n",
      " [0.75569794 0.96981512 1.18399329 1.21136367 1.29475459 1.34582028\n",
      "  1.35536031 1.43958381 1.49695652 1.60202212]\n",
      " [0.19000275 0.39934273 0.61211512 0.78292759 0.98246395 1.03497836\n",
      "  1.03952669 1.05290044 1.11817711 1.12380662]\n",
      " [0.12879789 0.22183648 0.36316943 0.53125341 0.55398779 0.7435092\n",
      "  0.76638576 0.95667048 0.98230387 0.98459567]\n",
      " [0.50278439 0.71573556 1.0575794  1.11178547 1.13323044 1.21153792\n",
      "  1.25262827 1.35711221 1.42919663 1.4843725 ]\n",
      " [1.40374588 1.61796991 1.67291414 1.77681094 1.85234062 1.95367203\n",
      "  1.9607564  2.15572995 2.24743766 2.26071216]\n",
      " [0.86597843 0.88278839 1.03490679 1.06076077 1.21332002 1.24776914\n",
      "  1.36038091 1.40145892 1.58567724 1.6364002 ]\n",
      " [0.52990423 0.53161193 0.62069198 0.63279387 0.75359526 0.77837908\n",
      "  0.87842111 0.91215047 1.08314375 1.12881123]\n",
      " [0.50425487 0.52580924 0.53555508 0.54866123 0.58997434 0.6264257\n",
      "  0.69228169 0.70045759 0.73054662 0.74861469]\n",
      " [0.66022764 0.72749435 0.81157967 0.88158085 1.09250957 1.15770618\n",
      "  1.35714502 1.41456532 1.53533283 1.59102865]\n",
      " [1.38611715 1.47045159 1.58135517 1.65965972 1.89899015 1.92226625\n",
      "  1.96683969 2.06379381 2.10186319 2.18029181]\n",
      " [0.68199975 0.87431444 1.06682499 1.14645082 1.2209122  1.26120082\n",
      "  1.27182173 1.39136089 1.393117   1.45212206]\n",
      " [0.17850937 0.36338499 0.5537323  0.70699031 0.93750966 0.95424867\n",
      "  0.99755918 1.07174517 1.0746038  1.12761874]\n",
      " [0.12468405 0.20714394 0.32884258 0.47893131 0.50270334 0.66923193\n",
      "  0.69321065 0.86067142 0.95379458 0.95691656]\n",
      " [0.45225799 0.64310471 0.95014967 1.08420636 1.11725781 1.18630416\n",
      "  1.19674421 1.21944632 1.37582245 1.38625312]\n",
      " [1.26051548 1.45318962 1.57897243 1.64296638 1.73277893 1.76155155\n",
      "  1.79815024 1.99597419 2.03142043 2.05699565]\n",
      " [0.70545586 0.86822598 0.9443538  1.03621438 1.0817288  1.17285878\n",
      "  1.23184816 1.35829501 1.38018641 1.45091849]\n",
      " [0.35410427 0.45636617 0.59575652 0.70128673 0.71983943 0.76807376\n",
      "  0.87008685 0.91627718 0.9697461  1.1393935 ]\n",
      " [0.34349902 0.36079458 0.45501691 0.54511949 0.56340631 0.68351558\n",
      "  0.69600827 0.71566489 0.71610578 0.7322876 ]\n",
      " [0.5558376  0.70840796 0.77230896 0.87553001 0.97114013 1.08727963\n",
      "  1.20960908 1.30027125 1.41717794 1.42693504]\n",
      " [1.25725176 1.31799568 1.43060877 1.48027033 1.71021334 1.74963369\n",
      "  1.85443933 1.95631616 1.97692618 1.97849175]\n",
      " [0.68507666 0.84031702 0.89051408 1.00085506 1.00468402 1.13125781\n",
      "  1.13158816 1.23890796 1.33011041 1.40797425]\n",
      " [0.35730384 0.4570792  0.59072181 0.69085156 0.7094331  0.7379596\n",
      "  0.81601008 0.89541512 0.89740767 1.03459529]\n",
      " [0.33273535 0.37442381 0.42087257 0.51810687 0.56120074 0.65989314\n",
      "  0.69121465 0.69145599 0.70751333 0.75007038]\n",
      " [0.49095834 0.62983294 0.8178973  0.87634565 0.91929856 1.1028558\n",
      "  1.11320867 1.30086347 1.30286182 1.35196822]\n",
      " [1.13000947 1.29526662 1.35181718 1.49615973 1.56244661 1.65563492\n",
      "  1.73450462 1.7689783  1.79798534 1.94823618]\n",
      " [0.55631773 0.71280666 0.86953148 0.99500629 1.10867763 1.17959545\n",
      "  1.18331382 1.2030622  1.25354658 1.31130883]\n",
      " [0.14706413 0.29566182 0.4501019  0.57470998 0.76230349 0.95768271\n",
      "  0.98163633 0.99824637 1.06194736 1.06292759]\n",
      " [0.11094899 0.16660551 0.27588707 0.3976932  0.40489818 0.55241887\n",
      "  0.55969843 0.70820978 0.94565124 0.96901593]\n",
      " [0.38026628 0.53543165 0.78533366 0.98750109 1.00462302 1.04723999\n",
      "  1.15271001 1.1846832  1.19279365 1.22024975]\n",
      " [1.04115622 1.19808621 1.34178532 1.44927016 1.46313885 1.54347613\n",
      "  1.65601715 1.66911654 1.6726245  1.84719019]\n",
      " [0.7041876  0.73275803 0.81214779 0.84762387 0.92957205 0.97211014\n",
      "  1.02815762 1.07639381 1.18135242 1.23816878]\n",
      " [0.5072125  0.52524344 0.55567828 0.58276329 0.63333128 0.66958602\n",
      "  0.71018335 0.75347949 0.84155678 0.89487999]\n",
      " [0.50623977 0.50827647 0.51018084 0.53717228 0.55340169 0.56407544\n",
      "  0.59888696 0.61065489 0.62618082 0.65487567]\n",
      " [0.58906934 0.62774628 0.67769313 0.72419203 0.85585771 0.90441913\n",
      "  1.03250366 1.07727348 1.19255278 1.23199063]\n",
      " [1.04825304 1.11892135 1.18184324 1.248674   1.40250627 1.4613718\n",
      "  1.60015951 1.65096639 1.72057484 1.77183895]\n",
      " [0.4790271  0.61450459 0.75006771 0.85855259 1.0213144  1.09372775\n",
      "  1.12442261 1.16677774 1.18169899 1.21123557]\n",
      " [0.12162165 0.25292563 0.3872824  0.49530106 0.65767046 0.84733807\n",
      "  0.98016814 1.01078247 1.03464328 1.05300169]\n",
      " [0.08721865 0.13979435 0.23418387 0.34029615 0.34869907 0.47450369\n",
      "  0.48296911 0.60937901 0.97069575 0.98683779]\n",
      " [0.32439909 0.45903187 0.67534543 0.86496077 0.99812006 1.02760131\n",
      "  1.04105768 1.10856653 1.13606281 1.14402402]\n",
      " [0.89599726 1.03163159 1.24868266 1.26305506 1.35906292 1.42302775\n",
      "  1.43862508 1.51453703 1.52798569 1.60144373]\n",
      " [0.5431629  0.65442923 0.77109695 0.82069355 0.86685922 0.88970814\n",
      "  0.96907846 1.013114   1.03844677 1.15006409]\n",
      " [0.32086195 0.38599305 0.4775878  0.56140339 0.69675872 0.70770411\n",
      "  0.73247495 0.77568279 0.82161295 0.86274345]\n",
      " [0.30466486 0.33263715 0.35932726 0.42398348 0.4586588  0.52232603\n",
      "  0.56184762 0.63162346 0.70714489 0.71017325]\n",
      " [0.40401094 0.49926993 0.67506356 0.78774918 0.84010397 0.8495664\n",
      "  0.9721341  0.98574371 1.08416648 1.0965148 ]\n",
      " [0.85839648 0.97996926 1.13393188 1.17758205 1.23159625 1.35247655\n",
      "  1.39564057 1.48410963 1.50334571 1.54494387]\n",
      " [0.62900316 0.71739086 0.8143366  0.89619881 1.02401289 1.17839251\n",
      "  1.35939814 1.47424439 1.52980151 1.57307435]\n",
      " [0.47399495 0.51644172 0.58158634 0.64552291 0.75483331 0.89556155\n",
      "  1.06688461 1.17758744 1.46670029 1.48458374]\n",
      " [0.4626164  0.48329142 0.49320904 0.53510853 0.57157378 0.60559016\n",
      "  0.65056672 0.69038217 1.46062941 1.46563616]\n",
      " [0.51822732 0.58385052 0.71967715 0.85719649 0.98318964 1.0699709\n",
      "  1.18071943 1.29338657 1.46784317 1.48661267]\n",
      " [0.86825976 0.97339251 1.14831202 1.30586586 1.44316215 1.53555518\n",
      "  1.5982047  1.65181308 1.65473353 1.76100145]\n",
      " [1.48935375 1.52904509 1.57710906 1.62109251 1.69538509 1.79316943\n",
      "  1.91731334 2.00058075 2.46859428 2.49581142]\n",
      " [1.43166239 1.44809879 1.47438558 1.50216632 1.55432547 1.62959926\n",
      "  1.73212972 1.80389436 2.43071764 2.44269743]\n",
      " [1.42607276 1.43036092 1.43981408 1.44141948 1.46421587 1.47947527\n",
      "  1.496548   1.51642601 2.42639197 2.42708031]\n",
      " [1.43214005 1.44890651 1.49598019 1.55601531 1.61995042 1.66829305\n",
      "  1.73448707 1.80642711 2.42588738 2.43206775]\n",
      " [1.54962417 1.60120453 1.69859593 1.79676302 1.88904002 1.95417688\n",
      "  2.03918291 2.12772564 2.48084996 2.5110904 ]\n",
      " [2.21402489 2.24105514 2.2742559  2.30508176 2.35807819 2.42951095\n",
      "  2.5227258  2.58669596 3.204567   3.22568141]\n",
      " [2.17621794 2.18800021 2.20641227 2.2258068  2.26242013 2.31601671\n",
      "  2.39063862 2.44397258 3.17600886 3.18586609]\n",
      " [2.17232102 2.17252255 2.17761032 2.18507373 2.19027113 2.20954257\n",
      "  2.21536204 2.24264727 3.17115342 3.17351091]\n",
      " [2.17190934 2.17874851 2.20360877 2.23900613 2.27902261 2.31042557\n",
      "  2.3547314  2.40435925 3.1710572  3.17269389]\n",
      " [2.22986051 2.26070346 2.32243893 2.38814274 2.45245148 2.49912754\n",
      "  2.56146042 2.62792891 3.1990512  3.21861082]\n",
      " [2.71381429 2.735988   2.76332453 2.78880992 2.83286005 2.89269344\n",
      "  2.97152655 3.02609334 3.70774721 3.72607104]\n",
      " [2.68344005 2.69352058 2.70901191 2.72523982 2.75583013 2.80069337\n",
      "  2.86348642 2.90863983 3.68344567 3.69234726]\n",
      " [2.6789745  2.68080462 2.68215526 2.69106174 2.69292196 2.70539452\n",
      "  2.71974662 2.74337457 3.67862429 3.67980002]\n",
      " [2.67857877 2.68177416 2.69826924 2.72401113 2.75424773 2.7784711\n",
      "  2.81317771 2.85263489 3.67889701 3.67930288]\n",
      " [2.71469521 2.73710132 2.78361422 2.83462927 2.88561903 2.92315556\n",
      "  2.9738747  3.02861567 3.69566234 3.71027448]\n",
      " [2.96783262 2.98815756 3.01324254 3.03665921 3.07720488 3.13242192\n",
      "  3.20541764 3.25609981 3.96290153 3.98007913]\n",
      " [2.94027654 2.94971816 2.96410831 2.97913601 3.00742567 3.04891204\n",
      "  3.10705476 3.14894092 3.94035349 3.9488648 ]\n",
      " [2.93570325 2.93809311 2.93814312 2.94558634 2.95009769 2.95804944\n",
      "  2.97561745 2.9978576  3.93562446 3.93631797]\n",
      " [2.93554245 2.93737059 2.95070553 2.97275869 2.9992112  3.020625\n",
      "  3.05153251 3.08691038 3.93555067 3.93678974]\n",
      " [2.96362316 2.9827738  3.02332301 3.06847035 3.11404124 3.14780448\n",
      "  3.19366391 3.24342335 3.94856441 3.96113802]] 0.08721865368541569\n"
     ]
    }
   ],
   "source": [
    "'''Interpol from CRM_WING'''\n",
    "from scipy.spatial import cKDTree\n",
    "\n",
    "number_of_neighbors = 10\n",
    "\n",
    "# x, y, z coordinates of each node, NOTE assuming same order for DOFs\n",
    "vortex_valid = vlm.vortex_centers[:, 1] > ncoords[:, 1].min() # region represented by the FE model\n",
    "\n",
    "tree = cKDTree(ncoords)\n",
    "d, node_indices = tree.query(vlm.vortex_centers[vortex_valid], k=number_of_neighbors)\n",
    "\n",
    "power = 2\n",
    "weights = (1/d**power)/((1/d**power).sum(axis=1)[:, None])\n",
    "assert np.allclose(weights.sum(axis=1), 1)\n",
    "print('distances', d, d.min())"
   ]
  },
  {
   "cell_type": "code",
   "execution_count": 9,
   "id": "956aa3d1",
   "metadata": {},
   "outputs": [
    {
     "name": "stdout",
     "output_type": "stream",
     "text": [
      "(816, 240) (80, 10) (80, 10)\n"
     ]
    }
   ],
   "source": [
    "v = vortex_valid.sum()*3\n",
    "W = np.zeros((N, v))\n",
    "print(W.shape, node_indices.shape, weights.shape)"
   ]
  },
  {
   "cell_type": "code",
   "execution_count": 10,
   "id": "b3c08e11",
   "metadata": {},
   "outputs": [
    {
     "name": "stdout",
     "output_type": "stream",
     "text": [
      "(80, 3)\n",
      "[[-2.74542164e+01 -3.33546159e-02  1.24303978e+02]\n",
      " [-1.30163887e+01 -1.23490354e-03  1.75452846e+02]\n",
      " [-8.46499992e+00 -3.69809917e-02  1.76247100e+02]]\n",
      "[-2.25231771e+02 -2.85381480e-01  9.95560009e+02 -9.33418086e+01\n",
      "  2.32800773e-01  1.40312089e+03 -3.24041306e+01  1.84319055e+00\n",
      "  1.41229350e+03]\n"
     ]
    }
   ],
   "source": [
    "W *= 0\n",
    "for j in range(number_of_neighbors):\n",
    "    for i, node_index in enumerate(node_indices[:, j]):\n",
    "        W[DOF*node_index + 0, i*3 + 0] += weights[i, j]\n",
    "        W[DOF*node_index + 1, i*3 + 1] += weights[i, j]\n",
    "        W[DOF*node_index + 2, i*3 + 2] += weights[i, j]\n",
    "assert np.allclose(W.sum(axis=0), 1.)\n",
    "\n",
    "print(vlm.forces_geometry[vortex_valid].shape)\n",
    "print(vlm.forces_geometry[:3])\n",
    "Fv = vlm.forces_geometry[vortex_valid].flatten()\n",
    "print(Fv[:9])\n",
    "Fext = W @ Fv"
   ]
  },
  {
   "cell_type": "markdown",
   "id": "8b52afa7",
   "metadata": {},
   "source": [
    "Checks"
   ]
  },
  {
   "cell_type": "code",
   "execution_count": 11,
   "id": "b9951de0",
   "metadata": {},
   "outputs": [
    {
     "name": "stdout",
     "output_type": "stream",
     "text": [
      "Fx.sum -4544.300717003933 -4544.300717003933\n",
      "Fy.sum 67.11681683882202 67.11681683882202\n",
      "Fz.sum 63382.961072941696 63382.961072941696\n",
      "638450.8781287547 631247.3171719541  error: -0.011282874225051809\n"
     ]
    }
   ],
   "source": [
    "print('Fx.sum', Fext[0::DOF].sum(), Fv[0::3].sum())\n",
    "print('Fy.sum', Fext[1::DOF].sum(), Fv[1::3].sum())\n",
    "print('Fz.sum', Fext[2::DOF].sum(), Fv[2::3].sum())\n",
    "Mx_v = (vlm.vortex_centers[vortex_valid][:, 1]*Fv[2::3]).sum()\n",
    "Mx_u = (ncoords[:, 1]*Fext[2::DOF]).sum()\n",
    "print(Mx_v, Mx_u, ' error:', Mx_u/Mx_v - 1)\n",
    "\n",
    "assert np.isclose(Fext[0::DOF].sum(), Fv[0::3].sum())\n",
    "assert np.isclose(Fext[1::DOF].sum(), Fv[1::3].sum())\n",
    "assert np.isclose(Fext[2::DOF].sum(), Fv[2::3].sum())"
   ]
  },
  {
   "cell_type": "code",
   "execution_count": 12,
   "id": "a0bcdcfa",
   "metadata": {},
   "outputs": [
    {
     "data": {
      "application/vnd.jupyter.widget-view+json": {
       "model_id": "e9ed3a28006841aba02fc6c508c4e0b7",
       "version_major": 2,
       "version_minor": 0
      },
      "text/plain": [
       "Widget(value='<iframe src=\"http://localhost:63406/index.html?ui=P_0x1936afa78f0_1&reconnect=auto\" class=\"pyvis…"
      ]
     },
     "metadata": {},
     "output_type": "display_data"
    }
   ],
   "source": [
    "import pyvista as pv\n",
    "\n",
    "centers = []\n",
    "vecs = []\n",
    "for node_i, xyz in enumerate(ncoords):\n",
    "    start_point = xyz \n",
    "    vec = Fext[DOF*node_i:DOF*node_i+3]\n",
    "    if np.isclose(np.linalg.norm(vec), 0):\n",
    "        continue\n",
    "    centers.append(start_point)\n",
    "    vecs.append(vec)\n",
    "    \n",
    "centers = np.asarray(centers)\n",
    "vecs = np.asarray(vecs)\n",
    "vecs /= np.max(np.linalg.norm(vecs, axis=1))\n",
    "\n",
    "plotter = pv.Plotter()\n",
    "plotter.add_arrows(centers, vecs, mag=1)\n",
    "plotter.show()"
   ]
  },
  {
   "cell_type": "markdown",
   "id": "183f7758",
   "metadata": {},
   "source": [
    "## FEM solution"
   ]
  },
  {
   "cell_type": "code",
   "execution_count": 13,
   "id": "62194dc8",
   "metadata": {},
   "outputs": [],
   "source": [
    "from scipy.sparse.linalg import spsolve\n",
    "\n",
    "Kuu = KC0[:, bu][bu, :]\n",
    "fu = Fext[bu]\n",
    "uu = spsolve(Kuu, fu)\n",
    "u=np.zeros(N)\n",
    "u[bu] = uu\n",
    "\n",
    "displ_vec = np.zeros_like(ncoords)\n",
    "for i in range(3):\n",
    "    displ_vec[:, i] = u[i::DOF]\n",
    "total_displ = np.sqrt(displ_vec[:, 0]**2 + displ_vec[:, 1]**2 + displ_vec[:, 2]**2)"
   ]
  },
  {
   "cell_type": "markdown",
   "id": "a7e713ab",
   "metadata": {},
   "source": [
    "Adapting the function definition to us not having the model class"
   ]
  },
  {
   "cell_type": "code",
   "execution_count": 14,
   "id": "33407848",
   "metadata": {},
   "outputs": [],
   "source": [
    "def plot3d_pyvista(ncoords, nid_pos, quads, displ_vec=None, contour_vec=None,\n",
    "        contour_label='vec', contour_colorscale='coolwarm', background='white'):\n",
    "    \"\"\"Plot results using pyvista\n",
    " \n",
    "    Parameters\n",
    "    ----------\n",
    "    displ_vec : array-like\n",
    "        Nodal displacements to be applied to the nodal coordinates in order to visualize the deformed model.\n",
    "    contour_vec : array-like\n",
    "        Nodal or element-wise output to be displayed as a contour plot on top of the undeformed mesh.\n",
    "        For nodal output, the function expects the order of attr:`.ModelPyFE3D.ncoords`.\n",
    "        For element-wise output, the function expects the element outputs in the following order of elements:\n",
    " \n",
    "        - :attr:`ModelPyFE3D.list_Quad4R`\n",
    "        - :attr:`ModelPyFE3D.list_Tria3R`\n",
    " \n",
    "    contour_label : str\n",
    "        Name of contour being displayed.\n",
    "    contour_colorscale : str\n",
    "        Name of the colorscale.\n",
    " \n",
    "    Returns\n",
    "    -------\n",
    "    plotter : `pyvista.Plotter` object\n",
    "        A plotter object that is ready to be modified, or shown with ``plotter.show()``.\n",
    " \n",
    "    \"\"\"\n",
    "    import pyvista as pv\n",
    " \n",
    "    # NOTE needs ipygany and pythreejs packages (pip install pyvista pythreejs ipygany --upgrade)\n",
    " \n",
    "    intensitymode = None\n",
    "    if contour_vec is not None:\n",
    "        if len(contour_vec) == len(ncoords):\n",
    "            intensitymode = 'vertex'\n",
    "        elif len(contour_vec) == len(quads):\n",
    "            intensitymode = 'cell'\n",
    "        else:\n",
    "            raise RuntimeError('coutour_vec must be either a nodal or element output')\n",
    " \n",
    "    plotter = pv.Plotter(off_screen=False)\n",
    "    faces_quad = []\n",
    "    for q in quads:\n",
    "        faces_quad.append([4, nid_pos[q.n1], nid_pos[q.n2], nid_pos[q.n3], nid_pos[q.n4]])\n",
    "    faces_quad = np.array(faces_quad)\n",
    "    quad_plot = pv.PolyData(ncoords, faces_quad)\n",
    "    if contour_vec is not None:\n",
    "        if intensitymode == 'vertex':\n",
    "            quad_plot[contour_label] = contour_vec\n",
    "        else:\n",
    "            quad_plot[contour_label] = contour_vec[:len(quads)]\n",
    " \n",
    "        plotter.add_mesh(quad_plot, scalars=contour_label,\n",
    "                cmap=contour_colorscale, edge_color='black', show_edges=True,\n",
    "                line_width=1.)\n",
    "    else:\n",
    "        plotter.add_mesh(quad_plot, edge_color='black', show_edges=True,\n",
    "                line_width=1.)\n",
    "        \n",
    "    if displ_vec is not None:\n",
    "        quad_plot = pv.PolyData(ncoords + displ_vec, faces_quad)\n",
    "        plotter.add_mesh(quad_plot, edge_color='red', show_edges=True,\n",
    "                line_width=1., opacity=0.5)\n",
    "        \n",
    "    plotter.set_background(background)\n",
    "    plotter.parallel_projection = False\n",
    "    return plotter"
   ]
  },
  {
   "cell_type": "code",
   "execution_count": 15,
   "id": "bf2583d5",
   "metadata": {},
   "outputs": [
    {
     "data": {
      "application/vnd.jupyter.widget-view+json": {
       "model_id": "be401290c46140f49def69289f6c827f",
       "version_major": 2,
       "version_minor": 0
      },
      "text/plain": [
       "Widget(value='<iframe src=\"http://localhost:63406/index.html?ui=P_0x1936b171340_2&reconnect=auto\" class=\"pyvis…"
      ]
     },
     "metadata": {},
     "output_type": "display_data"
    }
   ],
   "source": [
    "plotter = plot3d_pyvista(ncoords, nid_pos, quads,\n",
    "                         displ_vec=displ_vec, \n",
    "                         contour_vec=total_displ, \n",
    "                         contour_label='displacement [mm]', \n",
    "                         background='gray')\n",
    "plotter.show()"
   ]
  },
  {
   "cell_type": "markdown",
   "id": "826a601b",
   "metadata": {},
   "source": [
    "## Flutter"
   ]
  },
  {
   "cell_type": "markdown",
   "id": "370a7d13",
   "metadata": {},
   "source": [
    "### Interpolation back to aerodynamic loads"
   ]
  },
  {
   "cell_type": "code",
   "execution_count": 16,
   "id": "e9c1ea89",
   "metadata": {},
   "outputs": [
    {
     "name": "stdout",
     "output_type": "stream",
     "text": [
      "[[ 0.  0.  0.]\n",
      " [ 0. 21.  1.]]\n",
      "distances [[2.2111037  2.32142857]\n",
      " [3.19936218 3.22003454]] 2.211103704450955 3.22003454158175\n"
     ]
    }
   ],
   "source": [
    "number_of_neighbors2 = 2\n",
    "airfoil_ys = [0, half_span]\n",
    "airfoil_xs = [0, 0]\n",
    "z_root = 0\n",
    "\n",
    "#TODO what is this\n",
    "var_hd0 = 0\n",
    "var_hd1 = 1\n",
    "var_twist0 = 5.2\n",
    "var_twist1 = 5.2\n",
    "\n",
    "p = np.array([var_hd0, var_hd1, var_twist0, var_twist1])\n",
    "\n",
    "heave_displs = p[:2]\n",
    "# twists = p[4:] NOTE ignoring twists for now\n",
    "airfoil_coords = np.vstack((airfoil_xs, airfoil_ys, z_root+heave_displs)).T\n",
    "print(airfoil_coords)\n",
    "tree = cKDTree(ncoords)\n",
    "nodal_coords = ncoords # x, y, z coordinates of each node, NOTE assuming same order for DOFs\n",
    "d, node_indices = tree.query(airfoil_coords, k=number_of_neighbors2)\n",
    "power = 2\n",
    "weights2 = (1/d**power)/((1/d**power).sum(axis=1)[:, None])\n",
    "assert np.allclose(weights2.sum(axis=1), 1)\n",
    "print('distances', d, d.min(), d.max())"
   ]
  },
  {
   "cell_type": "code",
   "execution_count": 17,
   "id": "52e3158d",
   "metadata": {},
   "outputs": [
    {
     "name": "stdout",
     "output_type": "stream",
     "text": [
      "(6, 816) (2, 2) (2, 2)\n"
     ]
    }
   ],
   "source": [
    "from scipy.sparse import csc_matrix\n",
    "\n",
    "W_u_to_p = np.zeros((len(heave_displs)*3, N))\n",
    "print(W_u_to_p.shape, node_indices.shape, weights2.shape)\n",
    "\n",
    "for j in range(number_of_neighbors2):\n",
    "    for i, node_index in enumerate(node_indices):\n",
    "        W_u_to_p[i*3 + 0, DOF*node_index + 0] = weights2[i, j]\n",
    "        W_u_to_p[i*3 + 1, DOF*node_index + 1] = weights2[i, j]\n",
    "        W_u_to_p[i*3 + 2, DOF*node_index + 2] = weights2[i, j]\n",
    "    \n",
    "W_u_to_p = csc_matrix(W_u_to_p)"
   ]
  },
  {
   "cell_type": "markdown",
   "id": "2f879909",
   "metadata": {},
   "source": [
    "Checks - airfoil heave displs."
   ]
  },
  {
   "cell_type": "code",
   "execution_count": 18,
   "id": "a79ed3db",
   "metadata": {},
   "outputs": [
    {
     "name": "stdout",
     "output_type": "stream",
     "text": [
      "[ 0.00000000e+00  0.00000000e+00  0.00000000e+00 -2.65084766e-05\n",
      " -2.55167681e-06  1.16603090e-03]\n",
      "[0.94285714 2.         0.        ] 0.0 0.0 0.0\n",
      "[1.17857143 2.         0.        ] 0.0 0.0 0.0\n",
      "[ 0.48571429 18.          0.        ] -2.6680403513779806e-05 -2.719825273592115e-06 0.0011739576474339346\n",
      "[ 0.60714286 18.          0.        ] -2.6680220114441284e-05 -2.4166096984893785e-06 0.001173221218928656\n"
     ]
    }
   ],
   "source": [
    "from scipy.sparse.linalg import spsolve\n",
    "\n",
    "Fext = W @ vlm.forces_geometry[vortex_valid].flatten()\n",
    "\n",
    "u = np.zeros(N)\n",
    "uu = spsolve(Kuu, Fext[bu])\n",
    "u[bu] = uu\n",
    "\n",
    "displ_vec = np.zeros_like(nodal_coords)\n",
    "for i in range(3):\n",
    "    displ_vec[:, i] = u[i::DOF]\n",
    "total_displ = np.sqrt(displ_vec[:, 0]**2 + displ_vec[:, 1]**2 + displ_vec[:, 2]**2)\n",
    "\n",
    "pdispl = W_u_to_p @ u\n",
    "\n",
    "print(pdispl)\n",
    "\n",
    "for node_index in node_indices.flatten():\n",
    "    print(nodal_coords[node_index], u[0::DOF][node_index], u[1::DOF][node_index], u[2::DOF][node_index])"
   ]
  },
  {
   "cell_type": "markdown",
   "id": "0dce64b7",
   "metadata": {},
   "source": [
    "### Aerodynamic Matrix"
   ]
  },
  {
   "cell_type": "code",
   "execution_count": 72,
   "id": "a886ad11",
   "metadata": {},
   "outputs": [
    {
     "name": "stdout",
     "output_type": "stream",
     "text": [
      "(816, 816)\n",
      "1620.9690031275532 1620.9690031275532\n"
     ]
    }
   ],
   "source": [
    "def calc_dFv_dp(op_pt:asb.OperatingPoint, airplane:asb.Airplane):\n",
    "    epsilon = 0.01\n",
    "    dFv_dp = np.zeros((v, len(heave_displs)*3))\n",
    "    vlm = asb.VortexLatticeMethod(\n",
    "        airplane,\n",
    "        op_pt\n",
    "    )\n",
    "    vlm.run()\n",
    "    for i in range(1): #we have only 2 cross sections TODO how much dow we need to observe the flutter\n",
    "        p_DOF = 3*(i + 1) + 2 # heave DOF starting at second airfoil\n",
    "        p2 = p.copy()\n",
    "        p2[i+1] += epsilon\n",
    "\n",
    "        wing2 = asb.Wing(\n",
    "        name=\"Main Wing\",\n",
    "        symmetric=True,\n",
    "        xsecs=[\n",
    "            asb.WingXSec(\n",
    "                xyz_le=[0,0,p2[0]],\n",
    "                chord=root_chord,\n",
    "                airfoil=asb.Airfoil(\"naca2412\")\n",
    "            ),\n",
    "            asb.WingXSec(\n",
    "                xyz_le=[0,half_span,p2[1]],\n",
    "                chord=tip_chord,\n",
    "                airfoil=asb.Airfoil(\"naca2412\")\n",
    "            )\n",
    "            ]\n",
    "        )\n",
    "\n",
    "        vlm2 = asb.VortexLatticeMethod(\n",
    "            airplane=asb.Airplane(\n",
    "                name=\"AIAA dummy plane\",\n",
    "                xyz_ref=[0, 0, 0],\n",
    "                wings=[wing2],\n",
    "            ),\n",
    "            op_point=op_pt\n",
    "        )\n",
    "        vlm2.run()\n",
    "        Fv2 = vlm2.forces_geometry[vortex_valid].flatten()\n",
    "        dFv_dp[:, p_DOF] += (Fv2 - Fv)/epsilon\n",
    "    dFv_dp = csc_matrix(dFv_dp)\n",
    "    return vlm, dFv_dp\n",
    "\n",
    "\n",
    "vlm, dFv_dp = calc_dFv_dp(op_point, airplane)\n",
    "KA = W @ dFv_dp @ W_u_to_p\n",
    "print(KA.shape)\n",
    "\n",
    "print(vlm.op_point.dynamic_pressure(),\n",
    "      1/2*vlm.op_point.velocity**2*vlm.op_point.atmosphere.density())"
   ]
  },
  {
   "cell_type": "markdown",
   "id": "0d3fb745",
   "metadata": {},
   "source": [
    "### Concluding the solution"
   ]
  },
  {
   "cell_type": "code",
   "execution_count": 92,
   "id": "b797b09b",
   "metadata": {},
   "outputs": [
    {
     "name": "stdout",
     "output_type": "stream",
     "text": [
      "velocity [m/s] 1.0\n",
      "    natural frequencies [rad/s] [103.8058718 +0.j 169.70606805+0.j]\n",
      "velocity [m/s] 5.214285714285714\n",
      "    natural frequencies [rad/s] [103.77663603+0.j 169.70606805+0.j]\n",
      "velocity [m/s] 9.428571428571429\n",
      "    natural frequencies [rad/s] [103.70771453+0.j 169.70606805+0.j]\n",
      "velocity [m/s] 13.642857142857142\n",
      "    natural frequencies [rad/s] [103.59902804+0.j 169.70606805+0.j]\n",
      "velocity [m/s] 17.857142857142858\n",
      "    natural frequencies [rad/s] [103.45045115+0.j 169.70606805+0.j]\n",
      "velocity [m/s] 22.071428571428573\n",
      "    natural frequencies [rad/s] [103.26181157+0.j 169.70606805+0.j]\n",
      "velocity [m/s] 26.285714285714285\n",
      "    natural frequencies [rad/s] [103.03288911+0.j 169.70606805+0.j]\n",
      "velocity [m/s] 30.5\n",
      "    natural frequencies [rad/s] [102.76341439+0.j 169.70606805+0.j]\n",
      "velocity [m/s] 34.714285714285715\n",
      "    natural frequencies [rad/s] [102.45306723+0.j 169.70606805+0.j]\n",
      "velocity [m/s] 38.92857142857143\n",
      "    natural frequencies [rad/s] [102.10147469+0.j 169.70606805+0.j]\n",
      "velocity [m/s] 43.142857142857146\n",
      "    natural frequencies [rad/s] [101.70820877+0.j 169.70606805+0.j]\n",
      "velocity [m/s] 47.35714285714286\n",
      "    natural frequencies [rad/s] [101.27278371+0.j 169.70606805+0.j]\n",
      "velocity [m/s] 51.57142857142857\n",
      "    natural frequencies [rad/s] [100.79465281+0.j 169.70606805+0.j]\n",
      "velocity [m/s] 55.785714285714285\n",
      "    natural frequencies [rad/s] [100.27320482+0.j 169.70606805+0.j]\n",
      "velocity [m/s] 60.0\n",
      "    natural frequencies [rad/s] [ 99.70775975+0.j 169.70606805+0.j]\n"
     ]
    }
   ],
   "source": [
    "from scipy.sparse.linalg import eigs\n",
    "from scipy.linalg import eig\n",
    "import matplotlib.pyplot as plt\n",
    "\n",
    "Muu = M[bu, :][:, bu]\n",
    "\n",
    "velocities = np.linspace(1, 60, 15)\n",
    "omegans = []\n",
    "for velocity in velocities:\n",
    "    print('velocity [m/s]', velocity)\n",
    "    op_pt = asb.OperatingPoint(\n",
    "    velocity=velocity,      # m/s\n",
    "    alpha=5,          # degrees\n",
    "    beta=0,           # degrees\n",
    "    atmosphere=asb.Atmosphere(6000)\n",
    ")\n",
    "    #KA *= 1/2*velocity**2*vlm.op_point.atmosphere.density()\n",
    "    vlm, dFv_dp = calc_dFv_dp(op_pt, airplane)\n",
    "    KA = W @ dFv_dp @ W_u_to_p\n",
    "    KAuu = KA[bu, :][:, bu]\n",
    "    k = 2\n",
    "    tol = 0\n",
    "    eigvals, peigvecs = eigs(A=Kuu - KAuu, M=Muu, k=k, which='LM', tol=tol, sigma=-1.)\n",
    "    omegan = np.sqrt(eigvals)\n",
    "    omegans.append(omegan)\n",
    "    print('    natural frequencies [rad/s]', omegan)"
   ]
  },
  {
   "cell_type": "code",
   "execution_count": 93,
   "id": "b752a42f",
   "metadata": {},
   "outputs": [
    {
     "data": {
      "text/plain": [
       "[<matplotlib.lines.Line2D at 0x14036034080>,\n",
       " <matplotlib.lines.Line2D at 0x14035fb2cf0>]"
      ]
     },
     "execution_count": 93,
     "metadata": {},
     "output_type": "execute_result"
    },
    {
     "data": {
      "image/png": "[encoded data removed]",
      "text/plain": [
       "<Figure size 500x500 with 1 Axes>"
      ]
     },
     "metadata": {},
     "output_type": "display_data"
    }
   ],
   "source": [
    "plt.figure(figsize=(5,5))\n",
    "plt.plot(velocities, omegans)"
   ]
  },
  {
   "cell_type": "code",
   "execution_count": 94,
   "id": "6d4df539",
   "metadata": {},
   "outputs": [
    {
     "name": "stderr",
     "output_type": "stream",
     "text": [
      "C:\\Users\\marri\\AppData\\Local\\Temp\\ipykernel_29988\\799748601.py:20: SparseEfficiencyWarning: spsolve requires A be CSC or CSR matrix format\n",
      "  uu = spsolve(Kuu - KAuu, Fext[bu])\n"
     ]
    }
   ],
   "source": [
    "from scipy.sparse.linalg import spsolve\n",
    "\n",
    "velocity = 40 # [m/s]\n",
    "\n",
    "vlm, dFv_dp = calc_dFv_dp(asb.OperatingPoint(\n",
    "    velocity=velocity,      # m/s\n",
    "    alpha=5,          # degrees\n",
    "    beta=0,           # degrees\n",
    "    atmosphere=asb.Atmosphere(6000)\n",
    "), airplane)\n",
    "\n",
    "KA = W @ dFv_dp @ W_u_to_p\n",
    "KAuu = KA[bu, :][:, bu]\n",
    "\n",
    "Fext = W @ vlm.forces_geometry[vortex_valid].flatten()\n",
    "\n",
    "u = np.zeros(N)\n",
    "\n",
    "velocity = 40\n",
    "uu = spsolve(Kuu - KAuu, Fext[bu])\n",
    "u[bu] = uu\n",
    "\n",
    "scale = 1e6\n",
    "displ_vec = np.zeros_like(nodal_coords)\n",
    "for i in range(3):\n",
    "    displ_vec[:, i] = scale*u[i::DOF]\n",
    "total_displ = np.sqrt(displ_vec[:, 0]**2 + displ_vec[:, 1]**2 + displ_vec[:, 2]**2)"
   ]
  },
  {
   "cell_type": "code",
   "execution_count": 86,
   "id": "457ddf2d",
   "metadata": {},
   "outputs": [
    {
     "data": {
      "application/vnd.jupyter.widget-view+json": {
       "model_id": "0c0aa8c0f460409d815a333138876118",
       "version_major": 2,
       "version_minor": 0
      },
      "text/plain": [
       "Widget(value='<iframe src=\"http://localhost:62349/index.html?ui=P_0x140260a2810_11&reconnect=auto\" class=\"pyvi…"
      ]
     },
     "metadata": {},
     "output_type": "display_data"
    }
   ],
   "source": [
    "plot3d_pyvista(ncoords, nid_pos, quads, displ_vec=displ_vec, contour_vec=total_displ, contour_label='displacement [mm]', background='gray').show()"
   ]
  }
 ],
 "metadata": {
  "kernelspec": {
   "display_name": "Python 3",
   "language": "python",
   "name": "python3"
  },
  "language_info": {
   "codemirror_mode": {
    "name": "ipython",
    "version": 3
   },
   "file_extension": ".py",
   "mimetype": "text/x-python",
   "name": "python",
   "nbconvert_exporter": "python",
   "pygments_lexer": "ipython3",
   "version": "3.12.2"
  }
 },
 "nbformat": 4,
 "nbformat_minor": 5
}
