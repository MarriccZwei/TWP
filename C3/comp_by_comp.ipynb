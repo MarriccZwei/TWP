{
 "cells": [
  {
   "cell_type": "code",
   "execution_count": 2,
   "id": "27e1a559",
   "metadata": {},
   "outputs": [],
   "source": [
    "import ptsFromCAD as pfc\n",
    "import meshingComponents as mc\n",
    "import geometricClasses as gcl\n",
    "import loadModel as lm\n",
    "\n",
    "import pyfe3d.beamprop as pbp\n",
    "import pyfe3d.shellprop_utils as psp\n",
    "import pyfe3d as pf3\n",
    "\n",
    "import pyfe3Dgcl as p3g\n",
    "\n",
    "import numpy as np\n",
    "import numpy.typing as nt\n",
    "from mpl_toolkits import mplot3d\n",
    "import matplotlib.pyplot as plt\n",
    "import scipy.sparse.linalg as ssl\n",
    "import copy"
   ]
  },
  {
   "cell_type": "markdown",
   "id": "11741b8f",
   "metadata": {},
   "source": [
    "In this file we will take single components from meshing components and simulate them separately to see what happens. We can say that all the sprint/ptmass eles are fine, so we only need to look at spars and panels."
   ]
  },
  {
   "cell_type": "code",
   "execution_count": null,
   "id": "c28c8f87",
   "metadata": {},
   "outputs": [],
   "source": [
    "#constants/givens\n",
    "BAT_MASS_1WING = 17480 #kg\n",
    "E = 72e9 #Pa\n",
    "NU = .33 #[-]\n",
    "RHO = 2700 #kg/m^3\n",
    "RHO_STEEL = 7850 #kg/m^3 #TODO: verify\n",
    "E_STEEL = 200e9 #Pa #TODO: verif\n",
    "FULLSPAN = 21 #m\n",
    "G0 = 9.81 #N/kg\n",
    "MTOM = 76000 #kg\n",
    "INFTY_STIFF = 1e20\n",
    "\n",
    "data = \"5000;0;-6.5|4750;0;-24|4500;0;-41|4000;0;-75|3500;0;-107|3000;0;-138|2500;0;-167|2000;0;-190|1500;0;-206|1250;0;-211|1000;0;-211.5|750;0;-205|500;0;-187.5|375;0;-173|250;0;-150.5|125;0;-113.5|62.5;0;-82.5|0;0;0|62.5;0;107.5|125;0;149.5|250;0;206.5|375;0;248|500;0;281.5|750;0;330.5|1000;0;363|1250;0;383.5|1500;0;394|2000;0;390|2500;0;362|3000;0;318|3500;0;259|4000;0;187.5|4500;0;104|4750;0;57|5000;0;6.5&4250;18000;2206.872|4125;18000;2198.122|4000;18000;2189.622|3750;18000;2172.622|3500;18000;2156.622|3250;18000;2141.122|3000;18000;2126.622|2750;18000;2115.122|2500;18000;2107.122|2375;18000;2104.622|2250;18000;2104.372|2125;18000;2107.622|2000;18000;2116.372|1937.5;18000;2123.622|1875;18000;2134.872|1812.5;18000;2153.372|1781.25;18000;2168.872|1750;18000;2210.122|1781.25;18000;2263.872|1812.5;18000;2284.872|1875;18000;2313.372|1937.5;18000;2334.122|2000;18000;2350.872|2125;18000;2375.372|2250;18000;2391.622|2375;18000;2401.872|2500;18000;2407.122|2750;18000;2405.122|3000;18000;2391.122|3250;18000;2369.122|3500;18000;2339.622|3750;18000;2303.872|4000;18000;2262.122|4125;18000;2238.622|4250;18000;2213.372&-471.576;3673.46;441.249|126.713;7770.33;945.522|725.002;11867.2;1449.796|1323.292;15964.069;1954.07&3012.266;18950.167;2324.854|4861.588;5721.895;702.56&500;0;0|1999.77;18000;2214.157&3500;0;0|3499.77;18000;2214.157&787.633;1600;66.192|2883.375;1600;66.192|2617.418;1600;526.843|1053.59;1600;526.843&2024.321;18000;2152.592|3273.646;18000;2152.592|3148.758;18000;2368.903|2149.209;18000;2368.903\" \n",
    "up = pfc.UnpackedPoints(data)\n",
    "mesh = gcl.Mesh3D()\n",
    "\n",
    "#mesh settings\n",
    "nbCoeff = 1\n",
    "na = 7\n",
    "nf2 = 3\n",
    "ntrig = 2\n",
    "nipCoeff = 1\n",
    "\n",
    "#geometry settings\n",
    "dz = .015 #inwards z offset of battery rail\n",
    "din = .010 #inner diameter of (threaded) battery rail\n",
    "cspacing = .25 #chordwise panel rib spacing\n",
    "bspacing = 1.33 #spanwise panel rib spacing\n",
    "ribflange = 0.0125 #rib flange length, excluding bends at corners\n",
    "motormass = 1000\n",
    "lgmass = 5000\n",
    "hingemass = 500\n",
    "lemass = 1000\n",
    "temass = 1000\n",
    "# motmountwidth = 0.7 #width of the motor mount along y\n",
    "\n",
    "#loads\n",
    "n = 0.3 #[-], load factor\n",
    "FT = 5000 #N, per motor\n",
    "LD = 20 #[-], lift-drag ratio\n",
    "nl = 2.\n",
    "\n",
    "#eleids\n",
    "spar = \"sp\"\n",
    "battery = \"bt\"\n",
    "batteryRail = \"br\"\n",
    "# batteryMount = \"bm\"\n",
    "# railMount = \"rm\"\n",
    "panelPlate = \"pl\"\n",
    "panelFlange = \"fl\"\n",
    "panelRib = \"rb\"\n",
    "skin = \"sk\"\n",
    "motor = \"mo\"\n",
    "lg =\"lg\"\n",
    "hinge =\"hn\"\n",
    "mount = \"mm\"\n",
    "\n",
    "#geometry loading\n",
    "nb = int(np.ceil(nbCoeff*4*((up.tfb.y-up.ffb.y)/bspacing+1)))\n",
    "\n",
    "sparsh, sparigrd, sparSecIdxs, a1, a2, f2 = mc.trigspars(mesh, nb, na, nf2, ntrig, spar, up.ffb, up.frb, up.frt, up.fft, up.tfb, up.trb, up.trt, up.tft)\n",
    "\n",
    "nip = int(np.ceil(nipCoeff*(4*((a1+2*f2)/cspacing+1)))) #obtaining nip so that we get the minimal required amount of elements\n",
    "\n",
    "#element definitions\n",
    "#1) thicknesses\n",
    "t_spar = 0.005 #thickness of spars and their flanges\n",
    "t_skin = 0.003 #outer skin thickness\n",
    "t_plate = 0.0025 #panel plate thickness\n",
    "t_rib = 0.002 #panel rib thickness\n",
    "\n",
    "# #2) springs\n",
    "# ks_rivet = p3g.SpringProp(1e5, 1e7, 1e7, 1e5, 1e5, 1e5, 0, 0, 1, 0, 1, 1, .01) #rivets are all oriented along z axis\n",
    "# # ks_railmount = (1e7, 1e7, 1e7, 1e7, 1e7, 1e7) #rail to flange mount also oriented along z\n",
    "# # ks_batmount = (1e6, 1e6, 1e6, 1e6, 1e6, 1e6) #battery to rail mount also oriented along z\n",
    "# ks_motmount =  p3g.SpringProp(INFTY_STIFF, INFTY_STIFF, INFTY_STIFF, INFTY_STIFF, INFTY_STIFF, INFTY_STIFF) #TODO: here orientation will be \"fun\"\n",
    "\n",
    "# #3) beams\n",
    "# prop_rail = p3g.OrientedBeamProp(1, 0, 0)\n",
    "# prop_rail.A = np.pi/4*din**2\n",
    "# prop_rail.Iyy = np.pi/64*din**4\n",
    "# prop_rail.Izz = prop_rail.Iyy\n",
    "# prop_rail.J = prop_rail.Iyy+prop_rail.Izz\n",
    "# scf = 5/6 #ASSUMPTION, TODO: verify\n",
    "# prop_rail.G = scf*E_STEEL/2/(1+0.3)\n",
    "# prop_rail.intrho = RHO_STEEL*prop_rail.A\n",
    "# prop_rail.intrhoy2 = RHO_STEEL*prop_rail.Izz\n",
    "# prop_rail.intrhoz2 = RHO_STEEL*prop_rail.Iyy\n",
    "\n",
    "#template for the flange prop\n",
    "prop_flange = p3g.OrientedBeamProp(0, 0, 0)\n",
    "prop_flange.A = t_rib*ribflange\n",
    "prop_flange.Izz = t_rib*ribflange**3/12\n",
    "prop_flange.Iyy = ribflange*t_rib**3/12\n",
    "scf = 5/6 #ASSUMPTION, TODO: verify\n",
    "prop_flange.G = scf*E/2/(1+0.3)\n",
    "prop_flange.intrho = RHO*prop_flange.A\n",
    "prop_flange.intrhoy2 = RHO*prop_flange.Izz\n",
    "prop_flange.intrhoz2 = RHO*prop_flange.Iyy\n",
    "\n",
    "def prop_flange_or(dir): #oriented flange prop\n",
    "    pfor = copy.deepcopy(prop_flange)\n",
    "    pfor.xyex = dir[0]\n",
    "    pfor.xyey = dir[1]\n",
    "    pfor.xyez = dir[2]\n",
    "    return pfor\n",
    "\n",
    "#element dictionary\n",
    "eleProps = {\"quad\":{spar:psp.isotropic_plate(thickness=t_spar, E=E, nu=NU, rho=RHO, calc_scf=True), \n",
    "                    skin:psp.isotropic_plate(thickness=t_skin, E=E, nu=NU, rho=RHO, calc_scf=True),\n",
    "                    panelPlate:psp.isotropic_plate(thickness=t_plate, E=E, nu=NU, rho=RHO, calc_scf=True), \n",
    "                    panelRib:psp.isotropic_plate(thickness=t_rib, E=E, nu=NU, rho=RHO, calc_scf=True)},\n",
    "            \"spring\":{},\n",
    "            \"beam\":{panelFlange:prop_flange_or}, \n",
    "            \"mass\":{}}\n",
    "\n",
    "#exporting mesh to pyfe3d\n",
    "KC0, M, N, x, y, z, outdict = p3g.eles_from_gcl(mesh, eleProps)"
   ]
  },
  {
   "cell_type": "markdown",
   "id": "0fd5f323",
   "metadata": {},
   "source": [
    "Apply aerodynamic load on what you have"
   ]
  },
  {
   "cell_type": "code",
   "execution_count": 4,
   "id": "7ef37850",
   "metadata": {},
   "outputs": [],
   "source": [
    "#boundary conditions = fix at y of fuselage boundary\n",
    "bk = np.zeros(N, dtype=bool)\n",
    "check = np.isclose(y, up.ffb.y)\n",
    "for i in range(pf3.DOF):\n",
    "    bk[i::pf3.DOF] = check\n",
    "bu = ~bk\n",
    "\n",
    "sparshNoFl = sparsh[:, sparSecIdxs[1]:sparSecIdxs[-2]+1]\n",
    "xmesh = np.zeros(sparshNoFl.shape)\n",
    "ymesh = np.zeros(sparshNoFl.shape)\n",
    "for i in range(sparshNoFl.shape[0]):\n",
    "    for j in range(sparshNoFl.shape[1]):\n",
    "        xmesh[i,j]=sparshNoFl[i,j].x\n",
    "        ymesh[i,j]=sparshNoFl[i,j].y\n",
    "\n",
    "f = np.zeros(N)\n",
    "Ltot = n*G0*MTOM\n",
    "L, Mx, My = lm.apply_on_wingbox(xmesh.T, ymesh.T, (0,1), (0,1))\n",
    "f[2::pf3.DOF][sparigrd[:, sparSecIdxs[1]:sparSecIdxs[-2]+1].flatten()] = Ltot*L.T.flatten()\n",
    "f[3::pf3.DOF][sparigrd[:, sparSecIdxs[1]:sparSecIdxs[-2]+1].flatten()] = Ltot*Mx.T.flatten()\n",
    "f[4::pf3.DOF][sparigrd[:, sparSecIdxs[1]:sparSecIdxs[-2]+1].flatten()] = Ltot*My.T.flatten()\n",
    "\n",
    "#applying weight\n",
    "weight = p3g.weight(M, n*G0, N, pf3.DOF, gcl.Direction3D(0,0,-1))\n",
    "f+=weight"
   ]
  },
  {
   "cell_type": "markdown",
   "id": "6c08a08e",
   "metadata": {},
   "source": [
    "Solution - We shall see"
   ]
  },
  {
   "cell_type": "code",
   "execution_count": 5,
   "id": "460f4828",
   "metadata": {},
   "outputs": [],
   "source": [
    "#checks and solution\n",
    "KC0uu = KC0[bu, :][:, bu]\n",
    "fu = f[bu]\n",
    "uu = ssl.spsolve(KC0uu, fu)\n",
    "u = np.zeros(N)\n",
    "u[bu] = uu\n",
    "\n",
    "w = u[2::pf3.DOF]\n",
    "v = u[0::pf3.DOF]"
   ]
  },
  {
   "cell_type": "markdown",
   "id": "8889dbad",
   "metadata": {},
   "source": [
    "# Pyvista"
   ]
  },
  {
   "cell_type": "code",
   "execution_count": 16,
   "id": "05c2f92f",
   "metadata": {},
   "outputs": [],
   "source": [
    "import pyvista\n",
    "pyvista.set_plot_theme('document')\n",
    "pyvista.set_jupyter_backend('trame')\n",
    "pyvista.global_theme.window_size = [600, 400]\n",
    "pyvista.global_theme.axes.show = True\n",
    "pyvista.global_theme.anti_aliasing = 'fxaa'\n",
    "pyvista.global_theme.show_scalar_bar = True"
   ]
  },
  {
   "cell_type": "code",
   "execution_count": 7,
   "id": "a3933456",
   "metadata": {},
   "outputs": [
    {
     "data": {
      "application/vnd.jupyter.widget-view+json": {
       "model_id": "ff153b0e46e44c30a768610a6531c62e",
       "version_major": 2,
       "version_minor": 0
      },
      "text/plain": [
       "Widget(value='<iframe src=\"http://localhost:61249/index.html?ui=P_0x242fb1fa330_0&reconnect=auto\" class=\"pyvis…"
      ]
     },
     "metadata": {},
     "output_type": "display_data"
    }
   ],
   "source": [
    "import pyvista as pv\n",
    "#nodes is our ncoords\n",
    "elements = outdict[\"elements\"]\n",
    "nid_pos = outdict[\"nid_pos\"]\n",
    "\n",
    "'''handling each element separately at each elemnt type gets a diff colour'''\n",
    "#springs\n",
    "edges_s = list()\n",
    "for s in elements[\"spring\"]:\n",
    "    edges_s.append([nid_pos[s.n1], nid_pos[s.n2]])\n",
    "colors_s = [1]*len(edges_s)\n",
    "#beams\n",
    "edges_b = list()\n",
    "for s in elements[\"spring\"]:\n",
    "    edges_b.append([nid_pos[s.n1], nid_pos[s.n2]])\n",
    "colors_b = [2]*len(edges_s)\n",
    "#quads\n",
    "edges_q = list()\n",
    "for s in elements[\"quad\"]:\n",
    "    edges_q.append([nid_pos[s.n1], nid_pos[s.n2]])\n",
    "    edges_q.append([nid_pos[s.n2], nid_pos[s.n3]])\n",
    "    edges_q.append([nid_pos[s.n3], nid_pos[s.n4]])\n",
    "    edges_q.append([nid_pos[s.n4], nid_pos[s.n1]])\n",
    "colors_q = [3]*len(edges_q)\n",
    "\n",
    "edges = np.array(edges_s+edges_b+edges_q)\n",
    "colors = np.array(colors_s+colors_b+colors_q)\n",
    "\n",
    "# We must \"pad\" the edges to indicate to vtk how many points per edge\n",
    "padding = np.empty(edges.shape[0], int) * 2\n",
    "padding[:] = 2\n",
    "edges_w_padding = np.vstack((padding, edges.T)).T\n",
    "\n",
    "mesh_ = pyvista.PolyData(outdict[\"ncoords\"], edges_w_padding)\n",
    "\n",
    "mesh_.plot(\n",
    "    scalars=colors,\n",
    "    render_lines_as_tubes=True,\n",
    "    style='wireframe',\n",
    "    line_width=1,\n",
    "    cmap='jet',\n",
    "    show_scalar_bar=False,\n",
    "    background='w',\n",
    ")"
   ]
  },
  {
   "cell_type": "markdown",
   "id": "b93786c3",
   "metadata": {},
   "source": [
    "defmesh"
   ]
  },
  {
   "cell_type": "code",
   "execution_count": 9,
   "id": "6aacba99",
   "metadata": {},
   "outputs": [
    {
     "data": {
      "application/vnd.jupyter.widget-view+json": {
       "model_id": "7a1378a2e2414b5c9fd6471ec5f4d73e",
       "version_major": 2,
       "version_minor": 0
      },
      "text/plain": [
       "Widget(value='<iframe src=\"http://localhost:61249/index.html?ui=P_0x242fb71af90_2&reconnect=auto\" class=\"pyvis…"
      ]
     },
     "metadata": {},
     "output_type": "display_data"
    }
   ],
   "source": [
    "#nodes is our ncoords\n",
    "elements = outdict[\"elements\"]\n",
    "nid_pos = outdict[\"nid_pos\"]\n",
    "nodex = x+v\n",
    "nodey = y+u[1::pf3.DOF]\n",
    "nodez = z+w\n",
    "nodes = list(zip(nodex, nodey, nodez))\n",
    "miny, maxy = 0,20\n",
    "\n",
    "'''handling each element separately at each elemnt type gets a diff colour'''\n",
    "#springs\n",
    "edges_s = list()\n",
    "for s in elements[\"spring\"]:\n",
    "    if y[nid_pos[s.n1]]>miny and y[nid_pos[s.n1]]<maxy:\n",
    "        edges_s.append([nid_pos[s.n1], nid_pos[s.n2]])\n",
    "colors_s = [7]*len(edges_s)\n",
    "#beams\n",
    "edges_b = list()\n",
    "for s in elements[\"spring\"]:\n",
    "    if y[nid_pos[s.n1]]>miny and y[nid_pos[s.n1]]<maxy:\n",
    "        edges_b.append([nid_pos[s.n1], nid_pos[s.n2]])\n",
    "colors_b = [5]*len(edges_s)\n",
    "#quads\n",
    "edges_q = list()\n",
    "for s in elements[\"quad\"]:\n",
    "    if y[nid_pos[s.n1]]>miny and y[nid_pos[s.n1]]<maxy:\n",
    "        edges_q.append([nid_pos[s.n1], nid_pos[s.n2]])\n",
    "        edges_q.append([nid_pos[s.n2], nid_pos[s.n3]])\n",
    "        edges_q.append([nid_pos[s.n3], nid_pos[s.n4]])\n",
    "        edges_q.append([nid_pos[s.n4], nid_pos[s.n1]])\n",
    "colors_q = [0]*len(edges_q)\n",
    "\n",
    "edges = np.array(edges_s+edges_b+edges_q)\n",
    "colors = np.array(colors_s+colors_b+colors_q)\n",
    "\n",
    "# We must \"pad\" the edges to indicate to vtk how many points per edge\n",
    "padding = np.empty(edges.shape[0], int) * 2\n",
    "padding[:] = 2\n",
    "edges_w_padding = np.vstack((padding, edges.T)).T\n",
    "\n",
    "mesh_ = pyvista.PolyData(nodes, edges_w_padding)\n",
    "\n",
    "mesh_.plot(\n",
    "    scalars=colors,\n",
    "    render_lines_as_tubes=True,\n",
    "    style='wireframe',\n",
    "    line_width=1,\n",
    "    cmap='jet',\n",
    "    show_scalar_bar=False,\n",
    "    background='w',\n",
    ")"
   ]
  },
  {
   "cell_type": "markdown",
   "id": "da650f41",
   "metadata": {},
   "source": [
    "Smooth torsion, all good. Now, we plot only panel+spars."
   ]
  },
  {
   "cell_type": "code",
   "execution_count": 4,
   "id": "3c3e56bf",
   "metadata": {},
   "outputs": [],
   "source": [
    "sparBotConns = sparSecIdxs[0::6]\n",
    "sparTopConns = sparSecIdxs[3::6]\n",
    "sbci = [sparigrd[:,idx] for idx in sparBotConns] #spar bottom connection ids\n",
    "stci = [sparigrd[:,idx] for idx in sparTopConns] #spar top connection ids"
   ]
  },
  {
   "cell_type": "code",
   "execution_count": 9,
   "id": "fc0ff625",
   "metadata": {},
   "outputs": [],
   "source": [
    "topflsh, topsksh, topflids, topskids = mc.panel(mesh, up.fft, up.frt, up.tft, up.trt, nb, nip, nf2, \n",
    "                                    panelPlate, skin, panelRib, panelFlange, up.surft, stci, cspacing, bspacing)"
   ]
  },
  {
   "cell_type": "code",
   "execution_count": 12,
   "id": "c6a47caa",
   "metadata": {},
   "outputs": [],
   "source": [
    "#exporting mesh to pyfe3d\n",
    "KC0, M, N, x, y, z, outdict = p3g.eles_from_gcl(mesh, eleProps)"
   ]
  },
  {
   "cell_type": "code",
   "execution_count": 13,
   "id": "ca68a38d",
   "metadata": {},
   "outputs": [],
   "source": [
    "#boundary conditions = fix at y of fuselage boundary\n",
    "n=1.5\n",
    "bk = np.zeros(N, dtype=bool)\n",
    "check = np.isclose(y, up.ffb.y)\n",
    "for i in range(pf3.DOF):\n",
    "    bk[i::pf3.DOF] = check\n",
    "bu = ~bk\n",
    "\n",
    "xmesh = np.zeros(topsksh.shape)\n",
    "ymesh = np.zeros(topsksh.shape)\n",
    "for i in range(topsksh.shape[0]):\n",
    "    for j in range(topsksh.shape[1]):\n",
    "        xmesh[i,j]=topsksh[i,j].x\n",
    "        ymesh[i,j]=topsksh[i,j].y\n",
    "\n",
    "f = np.zeros(N)\n",
    "Ltot = n*G0*MTOM\n",
    "L, Mx, My = lm.apply_on_wingbox(xmesh.T, ymesh.T, (up.fft.y/FULLSPAN, up.tft.y/FULLSPAN), (up.xcft, up.xcrt))\n",
    "f[2::pf3.DOF][topskids.flatten()] = Ltot*L.T.flatten()\n",
    "f[3::pf3.DOF][topskids.flatten()] = Ltot*Mx.T.flatten()\n",
    "f[4::pf3.DOF][topskids.flatten()] = Ltot*My.T.flatten()\n",
    "\n",
    "#applying weight\n",
    "weight = p3g.weight(M, n*G0, N, pf3.DOF, gcl.Direction3D(0,0,-1))\n",
    "f+=weight"
   ]
  },
  {
   "cell_type": "code",
   "execution_count": 14,
   "id": "4b46cea5",
   "metadata": {},
   "outputs": [],
   "source": [
    "#checks and solution\n",
    "KC0uu = KC0[bu, :][:, bu]\n",
    "fu = f[bu]\n",
    "uu = ssl.spsolve(KC0uu, fu)\n",
    "u = np.zeros(N)\n",
    "u[bu] = uu\n",
    "\n",
    "w = u[2::pf3.DOF]\n",
    "v = u[0::pf3.DOF]"
   ]
  },
  {
   "cell_type": "markdown",
   "id": "0ac01572",
   "metadata": {},
   "source": [
    "# Same treatment - Pyvista"
   ]
  },
  {
   "cell_type": "code",
   "execution_count": 15,
   "id": "500f305a",
   "metadata": {},
   "outputs": [
    {
     "data": {
      "application/vnd.jupyter.widget-view+json": {
       "model_id": "9138c8d7f1bb4444a8250ec11a4971ab",
       "version_major": 2,
       "version_minor": 0
      },
      "text/plain": [
       "Widget(value='<iframe src=\"http://localhost:61249/index.html?ui=P_0x2430a964cb0_3&reconnect=auto\" class=\"pyvis…"
      ]
     },
     "metadata": {},
     "output_type": "display_data"
    }
   ],
   "source": [
    "import pyvista as pv\n",
    "#nodes is our ncoords\n",
    "elements = outdict[\"elements\"]\n",
    "nid_pos = outdict[\"nid_pos\"]\n",
    "\n",
    "'''handling each element separately at each elemnt type gets a diff colour'''\n",
    "#springs\n",
    "edges_s = list()\n",
    "for s in elements[\"spring\"]:\n",
    "    edges_s.append([nid_pos[s.n1], nid_pos[s.n2]])\n",
    "colors_s = [1]*len(edges_s)\n",
    "#beams\n",
    "edges_b = list()\n",
    "for s in elements[\"spring\"]:\n",
    "    edges_b.append([nid_pos[s.n1], nid_pos[s.n2]])\n",
    "colors_b = [2]*len(edges_s)\n",
    "#quads\n",
    "edges_q = list()\n",
    "for s in elements[\"quad\"]:\n",
    "    edges_q.append([nid_pos[s.n1], nid_pos[s.n2]])\n",
    "    edges_q.append([nid_pos[s.n2], nid_pos[s.n3]])\n",
    "    edges_q.append([nid_pos[s.n3], nid_pos[s.n4]])\n",
    "    edges_q.append([nid_pos[s.n4], nid_pos[s.n1]])\n",
    "colors_q = [3]*len(edges_q)\n",
    "\n",
    "edges = np.array(edges_s+edges_b+edges_q)\n",
    "colors = np.array(colors_s+colors_b+colors_q)\n",
    "\n",
    "# We must \"pad\" the edges to indicate to vtk how many points per edge\n",
    "padding = np.empty(edges.shape[0], int) * 2\n",
    "padding[:] = 2\n",
    "edges_w_padding = np.vstack((padding, edges.T)).T\n",
    "\n",
    "mesh_ = pyvista.PolyData(outdict[\"ncoords\"], edges_w_padding)\n",
    "\n",
    "mesh_.plot(\n",
    "    scalars=colors,\n",
    "    render_lines_as_tubes=True,\n",
    "    style='wireframe',\n",
    "    line_width=1,\n",
    "    cmap='jet',\n",
    "    show_scalar_bar=False,\n",
    "    background='w',\n",
    ")"
   ]
  },
  {
   "cell_type": "code",
   "execution_count": 16,
   "id": "b56ac0b1",
   "metadata": {},
   "outputs": [
    {
     "data": {
      "application/vnd.jupyter.widget-view+json": {
       "model_id": "6d0efcd6f35f4f0eb57306431f76a140",
       "version_major": 2,
       "version_minor": 0
      },
      "text/plain": [
       "Widget(value='<iframe src=\"http://localhost:61249/index.html?ui=P_0x242fb3954c0_4&reconnect=auto\" class=\"pyvis…"
      ]
     },
     "metadata": {},
     "output_type": "display_data"
    }
   ],
   "source": [
    "#nodes is our ncoords\n",
    "elements = outdict[\"elements\"]\n",
    "nid_pos = outdict[\"nid_pos\"]\n",
    "nodex = x+v\n",
    "nodey = y+u[1::pf3.DOF]\n",
    "nodez = z+w\n",
    "nodes = list(zip(nodex, nodey, nodez))\n",
    "miny, maxy = 0,20\n",
    "\n",
    "'''handling each element separately at each elemnt type gets a diff colour'''\n",
    "#springs\n",
    "edges_s = list()\n",
    "for s in elements[\"spring\"]:\n",
    "    if y[nid_pos[s.n1]]>miny and y[nid_pos[s.n1]]<maxy:\n",
    "        edges_s.append([nid_pos[s.n1], nid_pos[s.n2]])\n",
    "colors_s = [7]*len(edges_s)\n",
    "#beams\n",
    "edges_b = list()\n",
    "for s in elements[\"spring\"]:\n",
    "    if y[nid_pos[s.n1]]>miny and y[nid_pos[s.n1]]<maxy:\n",
    "        edges_b.append([nid_pos[s.n1], nid_pos[s.n2]])\n",
    "colors_b = [5]*len(edges_s)\n",
    "#quads\n",
    "edges_q = list()\n",
    "for s in elements[\"quad\"]:\n",
    "    if y[nid_pos[s.n1]]>miny and y[nid_pos[s.n1]]<maxy:\n",
    "        edges_q.append([nid_pos[s.n1], nid_pos[s.n2]])\n",
    "        edges_q.append([nid_pos[s.n2], nid_pos[s.n3]])\n",
    "        edges_q.append([nid_pos[s.n3], nid_pos[s.n4]])\n",
    "        edges_q.append([nid_pos[s.n4], nid_pos[s.n1]])\n",
    "colors_q = [0]*len(edges_q)\n",
    "\n",
    "edges = np.array(edges_s+edges_b+edges_q)\n",
    "colors = np.array(colors_s+colors_b+colors_q)\n",
    "\n",
    "# We must \"pad\" the edges to indicate to vtk how many points per edge\n",
    "padding = np.empty(edges.shape[0], int) * 2\n",
    "padding[:] = 2\n",
    "edges_w_padding = np.vstack((padding, edges.T)).T\n",
    "\n",
    "mesh_ = pyvista.PolyData(nodes, edges_w_padding)\n",
    "\n",
    "mesh_.plot(\n",
    "    scalars=colors,\n",
    "    render_lines_as_tubes=True,\n",
    "    style='wireframe',\n",
    "    line_width=1,\n",
    "    cmap='jet',\n",
    "    show_scalar_bar=False,\n",
    "    background='w',\n",
    ")"
   ]
  },
  {
   "cell_type": "markdown",
   "id": "f7387ccf",
   "metadata": {},
   "source": [
    "# Ok, it seems fine, at this point idk. Let's add stuff like batteries, might help to see what goes wrong"
   ]
  },
  {
   "cell_type": "code",
   "execution_count": 32,
   "id": "5a50a921",
   "metadata": {},
   "outputs": [],
   "source": [
    "beamids, batids = [[]]*(2*ntrig+1), [[]]*(2*ntrig+1)\n",
    "for i, ids in zip(range(1,2*ntrig+1,2), sbci[1:-1]): #bottom batteries\n",
    "    beamids[i], batids[i] = mc.bat_rail(mesh, ntrig, a1, a2, f2, din, dz, ids, \n",
    "                                        batteryRail, battery, mount, mount, BAT_MASS_1WING)\n",
    "for i, ids in zip(range(0,2*ntrig+1,2), stci): #top batteries\n",
    "    beamids[i], batids[i] = mc.bat_rail(mesh, ntrig, a1, a2, f2, din, -dz, ids, \n",
    "                                        batteryRail, battery, mount, mount, BAT_MASS_1WING)"
   ]
  },
  {
   "cell_type": "code",
   "execution_count": 5,
   "id": "eb46f935",
   "metadata": {},
   "outputs": [
    {
     "name": "stdout",
     "output_type": "stream",
     "text": [
      "mm\n"
     ]
    }
   ],
   "source": [
    "ks_motmount =  p3g.SpringProp(INFTY_STIFF, INFTY_STIFF, INFTY_STIFF, INFTY_STIFF, INFTY_STIFF, INFTY_STIFF) #TODO: here orientation will be \"fun\"\n",
    "\n",
    "#3) beams\n",
    "prop_rail = p3g.OrientedBeamProp(1, 0, 0)\n",
    "prop_rail.A = np.pi/4*din**2\n",
    "prop_rail.Iyy = np.pi/64*din**4\n",
    "prop_rail.Izz = prop_rail.Iyy\n",
    "prop_rail.J = prop_rail.Iyy+prop_rail.Izz\n",
    "scf = 5/6 #ASSUMPTION, TODO: verify\n",
    "prop_rail.G = scf*E_STEEL/2/(1+0.3)\n",
    "prop_rail.intrho = RHO_STEEL*prop_rail.A\n",
    "prop_rail.intrhoy2 = RHO_STEEL*prop_rail.Izz\n",
    "prop_rail.intrhoz2 = RHO_STEEL*prop_rail.Iyy\n",
    "\n",
    "#template for the flange prop\n",
    "prop_flange = p3g.OrientedBeamProp(0, 0, 0)\n",
    "prop_flange.A = t_rib*ribflange\n",
    "prop_flange.Izz = t_rib*ribflange**3/12\n",
    "prop_flange.Iyy = ribflange*t_rib**3/12\n",
    "scf = 5/6 #ASSUMPTION, TODO: verify\n",
    "prop_flange.G = scf*E/2/(1+0.3)\n",
    "prop_flange.intrho = RHO*prop_flange.A\n",
    "prop_flange.intrhoy2 = RHO*prop_flange.Izz\n",
    "prop_flange.intrhoz2 = RHO*prop_flange.Iyy\n",
    "\n",
    "def prop_flange_or(dir): #oriented flange prop\n",
    "    pfor = copy.deepcopy(prop_flange)\n",
    "    pfor.xyex = dir[0]\n",
    "    pfor.xyey = dir[1]\n",
    "    pfor.xyez = dir[2]\n",
    "    return pfor\n",
    "\n",
    "#element dictionary\n",
    "eleProps = {\"quad\":{spar:psp.isotropic_plate(thickness=t_spar, E=E, nu=NU, rho=RHO, calc_scf=True), \n",
    "                    skin:psp.isotropic_plate(thickness=t_skin, E=E, nu=NU, rho=RHO, calc_scf=True),\n",
    "                    panelPlate:psp.isotropic_plate(thickness=t_plate, E=E, nu=NU, rho=RHO, calc_scf=True), \n",
    "                    panelRib:psp.isotropic_plate(thickness=t_rib, E=E, nu=NU, rho=RHO, calc_scf=True)},\n",
    "            \"spring\":{mount:ks_motmount},\n",
    "            \"beam\":{batteryRail:prop_rail, panelFlange:prop_flange_or}, \n",
    "            \"mass\":{battery:lambda m:m, motor:motormass, lg:lgmass, hinge:hingemass}}\n",
    "print(mount)"
   ]
  },
  {
   "cell_type": "code",
   "execution_count": 6,
   "id": "317f6cc7",
   "metadata": {},
   "outputs": [],
   "source": [
    "botflsh, botsksh, botflids, botskids = mc.panel(mesh, up.ffb, up.frb, up.tfb, up.trb, nb, nip, nf2, \n",
    "                                    panelPlate, skin, panelRib, panelFlange, up.surfb, sbci, cspacing, bspacing)\n",
    "    \n"
   ]
  },
  {
   "cell_type": "code",
   "execution_count": null,
   "id": "35cd0f99",
   "metadata": {},
   "outputs": [],
   "source": [
    "mids = mc.motors(mesh, up.motors, topflsh, topflids, botflsh, botflids, motor, mount)\n"
   ]
  },
  {
   "cell_type": "code",
   "execution_count": null,
   "id": "1d4dc7cb",
   "metadata": {},
   "outputs": [],
   "source": [
    "lgid = mc.lg(mesh, up.lg, botflsh, botflids, lg, mount)\n"
   ]
  },
  {
   "cell_type": "code",
   "execution_count": null,
   "id": "2f4becfd",
   "metadata": {},
   "outputs": [],
   "source": [
    "hingeid = mc.hinge(mesh, up.hinge, topflsh, topflids, hinge, mount)\n"
   ]
  },
  {
   "cell_type": "code",
   "execution_count": null,
   "id": "135f04cd",
   "metadata": {},
   "outputs": [],
   "source": [
    "leids, teids = mc.LETE(mesh, up.leline, up.teline, topflsh, topflids, botflsh, botflids, lemass, temass, battery, mount)"
   ]
  },
  {
   "cell_type": "code",
   "execution_count": 11,
   "id": "e2a6def5",
   "metadata": {},
   "outputs": [],
   "source": [
    "#exporting mesh to pyfe3d\n",
    "KC0, M, N, x, y, z, outdict = p3g.eles_from_gcl(mesh, eleProps)"
   ]
  },
  {
   "cell_type": "markdown",
   "id": "3f5392c7",
   "metadata": {},
   "source": [
    "Now, we apply both weight and lift"
   ]
  },
  {
   "cell_type": "code",
   "execution_count": 19,
   "id": "6bd2eb7f",
   "metadata": {},
   "outputs": [],
   "source": [
    "n=2.5\n",
    "#boundary conditions = fix at y of fuselage boundary\n",
    "bk = np.zeros(N, dtype=bool)\n",
    "check = np.isclose(y, up.ffb.y)\n",
    "for i in range(pf3.DOF):\n",
    "    bk[i::pf3.DOF] = check\n",
    "bu = ~bk\n",
    "\n",
    "xmesh = np.zeros(topsksh.shape)\n",
    "ymesh = np.zeros(topsksh.shape)\n",
    "for i in range(topsksh.shape[0]):\n",
    "    for j in range(topsksh.shape[1]):\n",
    "        xmesh[i,j]=topsksh[i,j].x\n",
    "        ymesh[i,j]=topsksh[i,j].y\n",
    "\n",
    "f = np.zeros(N)\n",
    "Ltot = n*G0*MTOM\n",
    "L, Mx, My = lm.apply_on_wingbox(xmesh.T, ymesh.T, (up.fft.y/FULLSPAN, up.tft.y/FULLSPAN), (up.xcft, up.xcrt))\n",
    "f[2::pf3.DOF][topskids.flatten()] = Ltot*L.T.flatten()\n",
    "f[3::pf3.DOF][topskids.flatten()] = Ltot*Mx.T.flatten()\n",
    "f[4::pf3.DOF][topskids.flatten()] = Ltot*My.T.flatten()\n",
    "\n",
    "xmesh = np.zeros(botsksh.shape)\n",
    "ymesh = np.zeros(botsksh.shape)\n",
    "for i in range(botsksh.shape[0]):\n",
    "    for j in range(botsksh.shape[1]):\n",
    "        xmesh[i,j]=botsksh[i,j].x\n",
    "        ymesh[i,j]=botsksh[i,j].y\n",
    "\n",
    "Ltot = n*G0*MTOM\n",
    "L, Mx, My = lm.apply_on_wingbox(xmesh.T, ymesh.T, (up.ffb.y/FULLSPAN, up.tfb.y/FULLSPAN), (up.xcfb, up.xcrb), False)\n",
    "f[2::pf3.DOF][botskids.flatten()] = Ltot*L.T.flatten()\n",
    "f[3::pf3.DOF][botskids.flatten()] = Ltot*Mx.T.flatten()\n",
    "f[4::pf3.DOF][botskids.flatten()] = Ltot*My.T.flatten()\n",
    "\n",
    "#applying weight\n",
    "weight = p3g.weight(M, n*G0, N, pf3.DOF, gcl.Direction3D(0,0,-1))\n",
    "f+=weight"
   ]
  },
  {
   "cell_type": "code",
   "execution_count": null,
   "id": "486cd3d0",
   "metadata": {},
   "outputs": [],
   "source": [
    "#checks and solution\n",
    "KC0uu = KC0[bu, :][:, bu]\n",
    "fu = f[bu]\n",
    "uu = ssl.spsolve(KC0uu, fu)\n",
    "u = np.zeros(N)\n",
    "u[bu] = uu\n",
    "\n",
    "w = u[2::pf3.DOF]\n",
    "v = u[0::pf3.DOF]"
   ]
  },
  {
   "cell_type": "markdown",
   "id": "eb044fa1",
   "metadata": {},
   "source": [
    "## Pyvista n.o 3"
   ]
  },
  {
   "cell_type": "code",
   "execution_count": 17,
   "id": "0c6b00b3",
   "metadata": {},
   "outputs": [
    {
     "data": {
      "application/vnd.jupyter.widget-view+json": {
       "model_id": "e8a6b72c116246d595b70867500ec6dd",
       "version_major": 2,
       "version_minor": 0
      },
      "text/plain": [
       "Widget(value='<iframe src=\"http://localhost:50297/index.html?ui=P_0x23c2e8279e0_0&reconnect=auto\" class=\"pyvis…"
      ]
     },
     "metadata": {},
     "output_type": "display_data"
    }
   ],
   "source": [
    "import pyvista as pv\n",
    "#nodes is our ncoords\n",
    "elements = outdict[\"elements\"]\n",
    "nid_pos = outdict[\"nid_pos\"]\n",
    "\n",
    "'''handling each element separately at each elemnt type gets a diff colour'''\n",
    "#springs\n",
    "edges_s = list()\n",
    "for s in elements[\"spring\"]:\n",
    "    edges_s.append([nid_pos[s.n1], nid_pos[s.n2]])\n",
    "colors_s = [1]*len(edges_s)\n",
    "#beams\n",
    "edges_b = list()\n",
    "for s in elements[\"spring\"]:\n",
    "    edges_b.append([nid_pos[s.n1], nid_pos[s.n2]])\n",
    "colors_b = [2]*len(edges_s)\n",
    "#quads\n",
    "edges_q = list()\n",
    "for s in elements[\"quad\"]:\n",
    "    edges_q.append([nid_pos[s.n1], nid_pos[s.n2]])\n",
    "    edges_q.append([nid_pos[s.n2], nid_pos[s.n3]])\n",
    "    edges_q.append([nid_pos[s.n3], nid_pos[s.n4]])\n",
    "    edges_q.append([nid_pos[s.n4], nid_pos[s.n1]])\n",
    "colors_q = [3]*len(edges_q)\n",
    "\n",
    "edges = np.array(edges_s+edges_b+edges_q)\n",
    "colors = np.array(colors_s+colors_b+colors_q)\n",
    "\n",
    "# We must \"pad\" the edges to indicate to vtk how many points per edge\n",
    "padding = np.empty(edges.shape[0], int) * 2\n",
    "padding[:] = 2\n",
    "edges_w_padding = np.vstack((padding, edges.T)).T\n",
    "\n",
    "mesh_ = pyvista.PolyData(outdict[\"ncoords\"], edges_w_padding)\n",
    "\n",
    "mesh_.plot(\n",
    "    scalars=colors,\n",
    "    render_lines_as_tubes=True,\n",
    "    style='wireframe',\n",
    "    line_width=1,\n",
    "    cmap='jet',\n",
    "    show_scalar_bar=False,\n",
    "    background='w',\n",
    ")"
   ]
  },
  {
   "cell_type": "code",
   "execution_count": 18,
   "id": "f0b548e6",
   "metadata": {},
   "outputs": [
    {
     "data": {
      "application/vnd.jupyter.widget-view+json": {
       "model_id": "3a14aaf051ff48a981307f43c483e123",
       "version_major": 2,
       "version_minor": 0
      },
      "text/plain": [
       "Widget(value='<iframe src=\"http://localhost:50297/index.html?ui=P_0x23c2fff6a50_1&reconnect=auto\" class=\"pyvis…"
      ]
     },
     "metadata": {},
     "output_type": "display_data"
    }
   ],
   "source": [
    "#nodes is our ncoords\n",
    "elements = outdict[\"elements\"]\n",
    "nid_pos = outdict[\"nid_pos\"]\n",
    "nodex = x+v\n",
    "nodey = y+u[1::pf3.DOF]\n",
    "nodez = z+w\n",
    "nodes = list(zip(nodex, nodey, nodez))\n",
    "miny, maxy = 0,20\n",
    "\n",
    "'''handling each element separately at each elemnt type gets a diff colour'''\n",
    "#springs\n",
    "edges_s = list()\n",
    "for s in elements[\"spring\"]:\n",
    "    if y[nid_pos[s.n1]]>miny and y[nid_pos[s.n1]]<maxy:\n",
    "        edges_s.append([nid_pos[s.n1], nid_pos[s.n2]])\n",
    "colors_s = [7]*len(edges_s)\n",
    "#beams\n",
    "edges_b = list()\n",
    "for s in elements[\"spring\"]:\n",
    "    if y[nid_pos[s.n1]]>miny and y[nid_pos[s.n1]]<maxy:\n",
    "        edges_b.append([nid_pos[s.n1], nid_pos[s.n2]])\n",
    "colors_b = [5]*len(edges_s)\n",
    "#quads\n",
    "edges_q = list()\n",
    "for s in elements[\"quad\"]:\n",
    "    if y[nid_pos[s.n1]]>miny and y[nid_pos[s.n1]]<maxy:\n",
    "        edges_q.append([nid_pos[s.n1], nid_pos[s.n2]])\n",
    "        edges_q.append([nid_pos[s.n2], nid_pos[s.n3]])\n",
    "        edges_q.append([nid_pos[s.n3], nid_pos[s.n4]])\n",
    "        edges_q.append([nid_pos[s.n4], nid_pos[s.n1]])\n",
    "colors_q = [0]*len(edges_q)\n",
    "\n",
    "edges = np.array(edges_s+edges_b+edges_q)\n",
    "colors = np.array(colors_s+colors_b+colors_q)\n",
    "\n",
    "# We must \"pad\" the edges to indicate to vtk how many points per edge\n",
    "padding = np.empty(edges.shape[0], int) * 2\n",
    "padding[:] = 2\n",
    "edges_w_padding = np.vstack((padding, edges.T)).T\n",
    "\n",
    "mesh_ = pyvista.PolyData(nodes, edges_w_padding)\n",
    "\n",
    "mesh_.plot(\n",
    "    scalars=colors,\n",
    "    render_lines_as_tubes=True,\n",
    "    style='wireframe',\n",
    "    line_width=1,\n",
    "    cmap='jet',\n",
    "    show_scalar_bar=False,\n",
    "    background='w',\n",
    ")"
   ]
  }
 ],
 "metadata": {
  "kernelspec": {
   "display_name": "Python 3",
   "language": "python",
   "name": "python3"
  },
  "language_info": {
   "codemirror_mode": {
    "name": "ipython",
    "version": 3
   },
   "file_extension": ".py",
   "mimetype": "text/x-python",
   "name": "python",
   "nbconvert_exporter": "python",
   "pygments_lexer": "ipython3",
   "version": "3.12.2"
  }
 },
 "nbformat": 4,
 "nbformat_minor": 5
}
